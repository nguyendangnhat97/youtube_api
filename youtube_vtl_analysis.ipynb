{
 "cells": [
  {
   "cell_type": "code",
   "execution_count": 25,
   "metadata": {
    "tags": []
   },
   "outputs": [
    {
     "name": "stderr",
     "output_type": "stream",
     "text": [
      "[nltk_data] Downloading package stopwords to /home/nhat/nltk_data...\n",
      "[nltk_data]   Package stopwords is already up-to-date!\n",
      "[nltk_data] Downloading package punkt to /home/nhat/nltk_data...\n",
      "[nltk_data]   Package punkt is already up-to-date!\n"
     ]
    },
    {
     "data": {
      "text/plain": [
       "True"
      ]
     },
     "execution_count": 25,
     "metadata": {},
     "output_type": "execute_result"
    }
   ],
   "source": [
    "from googleapiclient.discovery import build\n",
    "import pandas as pd\n",
    "from IPython.display import JSON\n",
    "from dateutil import parser\n",
    "import isodate\n",
    "import seaborn as sns\n",
    "import matplotlib.pyplot as plt\n",
    "import matplotlib.ticker as ticker\n",
    "\n",
    "# # NLP\n",
    "import nltk\n",
    "from nltk.corpus import stopwords\n",
    "from nltk.tokenize import word_tokenize\n",
    "nltk.download('stopwords')\n",
    "nltk.download('punkt')\n",
    "# from wordcloud import WordCloud\n"
   ]
  },
  {
   "cell_type": "code",
   "execution_count": 35,
   "metadata": {
    "tags": []
   },
   "outputs": [],
   "source": [
    "from dotenv import load_dotenv\n",
    "import os\n",
    "load_dotenv()\n",
    "\n",
    "api_key = os.getenv(\"api_key\")"
   ]
  },
  {
   "cell_type": "code",
   "execution_count": 36,
   "metadata": {
    "tags": []
   },
   "outputs": [],
   "source": [
    "channel_ids = ['UCIUt1auGAZGqo3jmeP-LB1g','UCQxFc2GZvTAfwgikTwPJSkA',]"
   ]
  },
  {
   "cell_type": "code",
   "execution_count": 37,
   "metadata": {
    "tags": []
   },
   "outputs": [],
   "source": [
    "api_service_name = \"youtube\"\n",
    "api_version = \"v3\"\n",
    "\n",
    "# Get credentials and create an API client\n",
    "youtube = build(\n",
    "    api_service_name, api_version, developerKey=api_key)\n"
   ]
  },
  {
   "cell_type": "code",
   "execution_count": 38,
   "metadata": {
    "tags": []
   },
   "outputs": [],
   "source": [
    "def get_channel_stats(youtube, channel_ids):\n",
    "    all_data = []\n",
    "    request = youtube.channels().list(\n",
    "                part='snippet,contentDetails,statistics',\n",
    "                id=','.join(channel_ids))\n",
    "    response = request.execute() \n",
    "    \n",
    "    for i in range(len(response['items'])):\n",
    "        data = dict(channelName = response['items'][i]['snippet']['title'],\n",
    "                    subscribers = response['items'][i]['statistics']['subscriberCount'],\n",
    "                    views = response['items'][i]['statistics']['viewCount'],\n",
    "                    totalVideos = response['items'][i]['statistics']['videoCount'],\n",
    "                    playlistId = response['items'][i]['contentDetails']['relatedPlaylists']['uploads'])\n",
    "        all_data.append(data)\n",
    "    \n",
    "    return pd.DataFrame(all_data)"
   ]
  },
  {
   "cell_type": "code",
   "execution_count": 39,
   "metadata": {
    "tags": []
   },
   "outputs": [],
   "source": [
    "channel_stats = get_channel_stats(youtube, channel_ids)"
   ]
  },
  {
   "cell_type": "code",
   "execution_count": 40,
   "metadata": {
    "tags": []
   },
   "outputs": [
    {
     "data": {
      "text/html": [
       "<div>\n",
       "<style scoped>\n",
       "    .dataframe tbody tr th:only-of-type {\n",
       "        vertical-align: middle;\n",
       "    }\n",
       "\n",
       "    .dataframe tbody tr th {\n",
       "        vertical-align: top;\n",
       "    }\n",
       "\n",
       "    .dataframe thead th {\n",
       "        text-align: right;\n",
       "    }\n",
       "</style>\n",
       "<table border=\"1\" class=\"dataframe\">\n",
       "  <thead>\n",
       "    <tr style=\"text-align: right;\">\n",
       "      <th></th>\n",
       "      <th>channelName</th>\n",
       "      <th>subscribers</th>\n",
       "      <th>views</th>\n",
       "      <th>totalVideos</th>\n",
       "      <th>playlistId</th>\n",
       "    </tr>\n",
       "  </thead>\n",
       "  <tbody>\n",
       "    <tr>\n",
       "      <th>0</th>\n",
       "      <td>Vê Tê Lờ</td>\n",
       "      <td>47</td>\n",
       "      <td>17347</td>\n",
       "      <td>66</td>\n",
       "      <td>UUIUt1auGAZGqo3jmeP-LB1g</td>\n",
       "    </tr>\n",
       "    <tr>\n",
       "      <th>1</th>\n",
       "      <td>Toàn Nguyễn</td>\n",
       "      <td>256000</td>\n",
       "      <td>56851349</td>\n",
       "      <td>1823</td>\n",
       "      <td>UUQxFc2GZvTAfwgikTwPJSkA</td>\n",
       "    </tr>\n",
       "  </tbody>\n",
       "</table>\n",
       "</div>"
      ],
      "text/plain": [
       "   channelName subscribers     views totalVideos                playlistId\n",
       "0     Vê Tê Lờ          47     17347          66  UUIUt1auGAZGqo3jmeP-LB1g\n",
       "1  Toàn Nguyễn      256000  56851349        1823  UUQxFc2GZvTAfwgikTwPJSkA"
      ]
     },
     "execution_count": 40,
     "metadata": {},
     "output_type": "execute_result"
    }
   ],
   "source": [
    "channel_stats"
   ]
  },
  {
   "cell_type": "code",
   "execution_count": 15,
   "metadata": {
    "tags": []
   },
   "outputs": [],
   "source": [
    "playlist_id = \"UUQxFc2GZvTAfwgikTwPJSkA\"\n",
    "\n",
    "def get_video_ids(youtube, playlist_id):\n",
    "\n",
    "    video_ids = []\n",
    "\n",
    "    request = youtube.playlistItems().list(\n",
    "            part=\"snippet,contentDetails\",\n",
    "            playlistId=playlist_id,\n",
    "            maxResults=50\n",
    "        )\n",
    "    response = request.execute()\n",
    "\n",
    "    for item in response['items']:\n",
    "        video_ids.append(item['contentDetails']['videoId'])\n",
    "\n",
    "    next_page_token = response.get('nextPageToken')\n",
    "    while next_page_token is not None:\n",
    "        request = youtube.playlistItems().list(\n",
    "            part='contentDetails',\n",
    "            playlistId=playlist_id,\n",
    "            maxResults=50,\n",
    "            pageToken=next_page_token\n",
    "        )\n",
    "\n",
    "        response = request.execute()\n",
    "\n",
    "        for item in response['items']:\n",
    "            video_ids.append(item['contentDetails']['videoId'])\n",
    "        \n",
    "        next_page_token = response.get('nextPageToken')\n",
    "\n",
    "    return video_ids"
   ]
  },
  {
   "cell_type": "code",
   "execution_count": 16,
   "metadata": {
    "tags": []
   },
   "outputs": [],
   "source": [
    "video_ids = get_video_ids(youtube, playlist_id)"
   ]
  },
  {
   "cell_type": "code",
   "execution_count": 17,
   "metadata": {
    "tags": []
   },
   "outputs": [
    {
     "data": {
      "text/plain": [
       "1824"
      ]
     },
     "execution_count": 17,
     "metadata": {},
     "output_type": "execute_result"
    }
   ],
   "source": [
    "len(video_ids)"
   ]
  },
  {
   "cell_type": "code",
   "execution_count": 40,
   "metadata": {},
   "outputs": [],
   "source": [
    "def get_video_details(youtube, video_ids):\n",
    "    \n",
    "    all_video_info = []\n",
    "\n",
    "    for i in range(0, len(video_ids), 50):\n",
    "        request = youtube.videos().list(\n",
    "            part=\"snippet, contentDetails, statistics\",\n",
    "            id=','.join(video_ids[i:i+50])\n",
    "        )\n",
    "\n",
    "        response = request.execute()\n",
    "        \n",
    "        for video in response['items']:\n",
    "            stats_to_keep = {'snippet': ['channelTitle', 'title', 'description', 'tags', 'publishedAt'],\n",
    "                             'statistics': ['viewCount', 'likeCount', 'favouriteCount', 'commentCount'],\n",
    "                             'contentDetails': ['duration', 'definition', 'caption']\n",
    "                            }\n",
    "            \n",
    "            video_info = {}\n",
    "            video_info['video_id'] = video['id']\n",
    "\n",
    "            for k in stats_to_keep.keys():\n",
    "                for v in stats_to_keep[k]:\n",
    "                    try:\n",
    "                        video_info[v] = video[k][v]\n",
    "                    except:\n",
    "                        video_info[v] = None\n",
    "            \n",
    "            all_video_info.append(video_info)\n",
    "        \n",
    "    return pd.DataFrame(all_video_info)"
   ]
  },
  {
   "cell_type": "code",
   "execution_count": 41,
   "metadata": {},
   "outputs": [
    {
     "data": {
      "text/html": [
       "<div>\n",
       "<style scoped>\n",
       "    .dataframe tbody tr th:only-of-type {\n",
       "        vertical-align: middle;\n",
       "    }\n",
       "\n",
       "    .dataframe tbody tr th {\n",
       "        vertical-align: top;\n",
       "    }\n",
       "\n",
       "    .dataframe thead th {\n",
       "        text-align: right;\n",
       "    }\n",
       "</style>\n",
       "<table border=\"1\" class=\"dataframe\">\n",
       "  <thead>\n",
       "    <tr style=\"text-align: right;\">\n",
       "      <th></th>\n",
       "      <th>video_id</th>\n",
       "      <th>channelTitle</th>\n",
       "      <th>title</th>\n",
       "      <th>description</th>\n",
       "      <th>tags</th>\n",
       "      <th>publishedAt</th>\n",
       "      <th>viewCount</th>\n",
       "      <th>likeCount</th>\n",
       "      <th>favouriteCount</th>\n",
       "      <th>commentCount</th>\n",
       "      <th>duration</th>\n",
       "      <th>definition</th>\n",
       "      <th>caption</th>\n",
       "    </tr>\n",
       "  </thead>\n",
       "  <tbody>\n",
       "    <tr>\n",
       "      <th>0</th>\n",
       "      <td>WfyaSfkA96g</td>\n",
       "      <td>Toàn Nguyễn</td>\n",
       "      <td>5 Điều đàn bà thông minh nhất định phải làm tr...</td>\n",
       "      <td>5 Điều đàn bà thông minh nhất định phải làm tr...</td>\n",
       "      <td>[Toàn Nguyễn, toan nguyen, tình yêu bí quyết, ...</td>\n",
       "      <td>2023-03-03T13:00:21Z</td>\n",
       "      <td>291</td>\n",
       "      <td>21</td>\n",
       "      <td>None</td>\n",
       "      <td>0</td>\n",
       "      <td>PT10M17S</td>\n",
       "      <td>hd</td>\n",
       "      <td>false</td>\n",
       "    </tr>\n",
       "    <tr>\n",
       "      <th>1</th>\n",
       "      <td>xDoIL9Bqfi0</td>\n",
       "      <td>Toàn Nguyễn</td>\n",
       "      <td>Kiểu người ko nên yêu #shorts</td>\n",
       "      <td></td>\n",
       "      <td>None</td>\n",
       "      <td>2023-03-02T13:29:15Z</td>\n",
       "      <td>2319</td>\n",
       "      <td>69</td>\n",
       "      <td>None</td>\n",
       "      <td>0</td>\n",
       "      <td>PT55S</td>\n",
       "      <td>hd</td>\n",
       "      <td>false</td>\n",
       "    </tr>\n",
       "    <tr>\n",
       "      <th>2</th>\n",
       "      <td>uIqdIQR9bIY</td>\n",
       "      <td>Toàn Nguyễn</td>\n",
       "      <td>thích quà nào hơn #shorts</td>\n",
       "      <td></td>\n",
       "      <td>None</td>\n",
       "      <td>2023-03-02T13:11:52Z</td>\n",
       "      <td>859</td>\n",
       "      <td>51</td>\n",
       "      <td>None</td>\n",
       "      <td>0</td>\n",
       "      <td>PT26S</td>\n",
       "      <td>hd</td>\n",
       "      <td>false</td>\n",
       "    </tr>\n",
       "    <tr>\n",
       "      <th>3</th>\n",
       "      <td>zpm1mZgLQ4Q</td>\n",
       "      <td>Toàn Nguyễn</td>\n",
       "      <td>5 Nguyên tắc ứng xử tiền bạc với đàn ông của p...</td>\n",
       "      <td>5 Nguyên tắc ứng xử tiền bạc với đàn ông của p...</td>\n",
       "      <td>[Toàn Nguyễn, toan nguyen, tình yêu bí quyết, ...</td>\n",
       "      <td>2023-03-02T13:00:42Z</td>\n",
       "      <td>2540</td>\n",
       "      <td>112</td>\n",
       "      <td>None</td>\n",
       "      <td>0</td>\n",
       "      <td>PT14M46S</td>\n",
       "      <td>hd</td>\n",
       "      <td>false</td>\n",
       "    </tr>\n",
       "    <tr>\n",
       "      <th>4</th>\n",
       "      <td>t9ZOmUzBNhk</td>\n",
       "      <td>Toàn Nguyễn</td>\n",
       "      <td>Người ấy muốn dừng lại? Hãy nói câu này #short</td>\n",
       "      <td></td>\n",
       "      <td>None</td>\n",
       "      <td>2023-03-01T14:21:08Z</td>\n",
       "      <td>6537</td>\n",
       "      <td>147</td>\n",
       "      <td>None</td>\n",
       "      <td>0</td>\n",
       "      <td>PT58S</td>\n",
       "      <td>hd</td>\n",
       "      <td>false</td>\n",
       "    </tr>\n",
       "    <tr>\n",
       "      <th>...</th>\n",
       "      <td>...</td>\n",
       "      <td>...</td>\n",
       "      <td>...</td>\n",
       "      <td>...</td>\n",
       "      <td>...</td>\n",
       "      <td>...</td>\n",
       "      <td>...</td>\n",
       "      <td>...</td>\n",
       "      <td>...</td>\n",
       "      <td>...</td>\n",
       "      <td>...</td>\n",
       "      <td>...</td>\n",
       "      <td>...</td>\n",
       "    </tr>\n",
       "    <tr>\n",
       "      <th>1794</th>\n",
       "      <td>9f6BxN2boCY</td>\n",
       "      <td>Toàn Nguyễn</td>\n",
       "      <td>Top 5 điều đàn ông thấy hấp dẫn ở phụ nữ - Bí ...</td>\n",
       "      <td>Bạn chưa hạnh phúc trong tình yêu? bạn tự hỏi ...</td>\n",
       "      <td>[Top 5 điều đàn ông thấy hấp dẫn ở phụ nữ, Bí ...</td>\n",
       "      <td>2019-05-05T10:58:45Z</td>\n",
       "      <td>42867</td>\n",
       "      <td>729</td>\n",
       "      <td>None</td>\n",
       "      <td>27</td>\n",
       "      <td>PT12M26S</td>\n",
       "      <td>hd</td>\n",
       "      <td>false</td>\n",
       "    </tr>\n",
       "    <tr>\n",
       "      <th>1795</th>\n",
       "      <td>d5VcLUAjntA</td>\n",
       "      <td>Toàn Nguyễn</td>\n",
       "      <td>Tại sao con gái hay giận dỗi và tầm quan trọng...</td>\n",
       "      <td>Nếu đã hơn một lần đặt câu hỏi tại sao con gái...</td>\n",
       "      <td>[Tại sao con gái hay giận dỗi và tầm quan trọn...</td>\n",
       "      <td>2019-05-03T13:43:58Z</td>\n",
       "      <td>29449</td>\n",
       "      <td>527</td>\n",
       "      <td>None</td>\n",
       "      <td>41</td>\n",
       "      <td>PT10M40S</td>\n",
       "      <td>hd</td>\n",
       "      <td>false</td>\n",
       "    </tr>\n",
       "    <tr>\n",
       "      <th>1796</th>\n",
       "      <td>8-3_1AviAIk</td>\n",
       "      <td>Toàn Nguyễn</td>\n",
       "      <td>Tổng hợp các cách kết hợp quần ống rộng đầy đủ...</td>\n",
       "      <td>Bạn yêu thích quần ống rộng nhưng không biết m...</td>\n",
       "      <td>[tổng hợp cách kết hợp quần ống rộng, tong hop...</td>\n",
       "      <td>2018-06-09T01:09:03Z</td>\n",
       "      <td>77078</td>\n",
       "      <td>254</td>\n",
       "      <td>None</td>\n",
       "      <td>5</td>\n",
       "      <td>PT21M25S</td>\n",
       "      <td>hd</td>\n",
       "      <td>false</td>\n",
       "    </tr>\n",
       "    <tr>\n",
       "      <th>1797</th>\n",
       "      <td>XVOmSkIaQro</td>\n",
       "      <td>Toàn Nguyễn</td>\n",
       "      <td>8 Bí Quyết Thời Trang Giúp Bạn Luôn Sang Trọng...</td>\n",
       "      <td>Làm sao để bạn luôn sang trọng mỗi ngày? Những...</td>\n",
       "      <td>[8 bí quyết thời trang giúp bạn luôn sang trọn...</td>\n",
       "      <td>2018-04-16T15:37:53Z</td>\n",
       "      <td>143431</td>\n",
       "      <td>738</td>\n",
       "      <td>None</td>\n",
       "      <td>24</td>\n",
       "      <td>PT10M13S</td>\n",
       "      <td>hd</td>\n",
       "      <td>false</td>\n",
       "    </tr>\n",
       "    <tr>\n",
       "      <th>1798</th>\n",
       "      <td>t6nwY6_I3sg</td>\n",
       "      <td>Toàn Nguyễn</td>\n",
       "      <td>7 mẹo  thời trang cho người gầy luôn hấp dẫn /...</td>\n",
       "      <td>Nhiều chị em gầy có tâm sự là thật khó để chọn...</td>\n",
       "      <td>[thời trang cho người gầy, các chọn đồ cho ngư...</td>\n",
       "      <td>2016-08-29T08:35:22Z</td>\n",
       "      <td>688541</td>\n",
       "      <td>3492</td>\n",
       "      <td>None</td>\n",
       "      <td>772</td>\n",
       "      <td>PT3M15S</td>\n",
       "      <td>hd</td>\n",
       "      <td>false</td>\n",
       "    </tr>\n",
       "  </tbody>\n",
       "</table>\n",
       "<p>1799 rows × 13 columns</p>\n",
       "</div>"
      ],
      "text/plain": [
       "         video_id channelTitle  \\\n",
       "0     WfyaSfkA96g  Toàn Nguyễn   \n",
       "1     xDoIL9Bqfi0  Toàn Nguyễn   \n",
       "2     uIqdIQR9bIY  Toàn Nguyễn   \n",
       "3     zpm1mZgLQ4Q  Toàn Nguyễn   \n",
       "4     t9ZOmUzBNhk  Toàn Nguyễn   \n",
       "...           ...          ...   \n",
       "1794  9f6BxN2boCY  Toàn Nguyễn   \n",
       "1795  d5VcLUAjntA  Toàn Nguyễn   \n",
       "1796  8-3_1AviAIk  Toàn Nguyễn   \n",
       "1797  XVOmSkIaQro  Toàn Nguyễn   \n",
       "1798  t6nwY6_I3sg  Toàn Nguyễn   \n",
       "\n",
       "                                                  title  \\\n",
       "0     5 Điều đàn bà thông minh nhất định phải làm tr...   \n",
       "1                         Kiểu người ko nên yêu #shorts   \n",
       "2                             thích quà nào hơn #shorts   \n",
       "3     5 Nguyên tắc ứng xử tiền bạc với đàn ông của p...   \n",
       "4        Người ấy muốn dừng lại? Hãy nói câu này #short   \n",
       "...                                                 ...   \n",
       "1794  Top 5 điều đàn ông thấy hấp dẫn ở phụ nữ - Bí ...   \n",
       "1795  Tại sao con gái hay giận dỗi và tầm quan trọng...   \n",
       "1796  Tổng hợp các cách kết hợp quần ống rộng đầy đủ...   \n",
       "1797  8 Bí Quyết Thời Trang Giúp Bạn Luôn Sang Trọng...   \n",
       "1798  7 mẹo  thời trang cho người gầy luôn hấp dẫn /...   \n",
       "\n",
       "                                            description  \\\n",
       "0     5 Điều đàn bà thông minh nhất định phải làm tr...   \n",
       "1                                                         \n",
       "2                                                         \n",
       "3     5 Nguyên tắc ứng xử tiền bạc với đàn ông của p...   \n",
       "4                                                         \n",
       "...                                                 ...   \n",
       "1794  Bạn chưa hạnh phúc trong tình yêu? bạn tự hỏi ...   \n",
       "1795  Nếu đã hơn một lần đặt câu hỏi tại sao con gái...   \n",
       "1796  Bạn yêu thích quần ống rộng nhưng không biết m...   \n",
       "1797  Làm sao để bạn luôn sang trọng mỗi ngày? Những...   \n",
       "1798  Nhiều chị em gầy có tâm sự là thật khó để chọn...   \n",
       "\n",
       "                                                   tags           publishedAt  \\\n",
       "0     [Toàn Nguyễn, toan nguyen, tình yêu bí quyết, ...  2023-03-03T13:00:21Z   \n",
       "1                                                  None  2023-03-02T13:29:15Z   \n",
       "2                                                  None  2023-03-02T13:11:52Z   \n",
       "3     [Toàn Nguyễn, toan nguyen, tình yêu bí quyết, ...  2023-03-02T13:00:42Z   \n",
       "4                                                  None  2023-03-01T14:21:08Z   \n",
       "...                                                 ...                   ...   \n",
       "1794  [Top 5 điều đàn ông thấy hấp dẫn ở phụ nữ, Bí ...  2019-05-05T10:58:45Z   \n",
       "1795  [Tại sao con gái hay giận dỗi và tầm quan trọn...  2019-05-03T13:43:58Z   \n",
       "1796  [tổng hợp cách kết hợp quần ống rộng, tong hop...  2018-06-09T01:09:03Z   \n",
       "1797  [8 bí quyết thời trang giúp bạn luôn sang trọn...  2018-04-16T15:37:53Z   \n",
       "1798  [thời trang cho người gầy, các chọn đồ cho ngư...  2016-08-29T08:35:22Z   \n",
       "\n",
       "     viewCount likeCount favouriteCount commentCount  duration definition  \\\n",
       "0          291        21           None            0  PT10M17S         hd   \n",
       "1         2319        69           None            0     PT55S         hd   \n",
       "2          859        51           None            0     PT26S         hd   \n",
       "3         2540       112           None            0  PT14M46S         hd   \n",
       "4         6537       147           None            0     PT58S         hd   \n",
       "...        ...       ...            ...          ...       ...        ...   \n",
       "1794     42867       729           None           27  PT12M26S         hd   \n",
       "1795     29449       527           None           41  PT10M40S         hd   \n",
       "1796     77078       254           None            5  PT21M25S         hd   \n",
       "1797    143431       738           None           24  PT10M13S         hd   \n",
       "1798    688541      3492           None          772   PT3M15S         hd   \n",
       "\n",
       "     caption  \n",
       "0      false  \n",
       "1      false  \n",
       "2      false  \n",
       "3      false  \n",
       "4      false  \n",
       "...      ...  \n",
       "1794   false  \n",
       "1795   false  \n",
       "1796   false  \n",
       "1797   false  \n",
       "1798   false  \n",
       "\n",
       "[1799 rows x 13 columns]"
      ]
     },
     "execution_count": 41,
     "metadata": {},
     "output_type": "execute_result"
    }
   ],
   "source": [
    "video_df = get_video_details(youtube, video_ids)\n",
    "video_df"
   ]
  },
  {
   "cell_type": "code",
   "execution_count": 16,
   "metadata": {},
   "outputs": [],
   "source": [
    "def get_comments_in_videos(youtube, video_ids):\n",
    "    \"\"\"\n",
    "    Get top level comments as text from all videos with given IDs (only the first 10 comments due to quote limit of Youtube API)\n",
    "    Params:\n",
    "    \n",
    "    youtube: the build object from googleapiclient.discovery\n",
    "    video_ids: list of video IDs\n",
    "    \n",
    "    Returns:\n",
    "    Dataframe with video IDs and associated top level comment in text.\n",
    "    \n",
    "    \"\"\"\n",
    "    all_comments = []\n",
    "    \n",
    "    for video_id in video_ids:\n",
    "        try:   \n",
    "            request = youtube.commentThreads().list(\n",
    "                part=\"snippet,replies\",\n",
    "                videoId=video_id\n",
    "            )\n",
    "            response = request.execute()\n",
    "        \n",
    "            comments_in_video = [comment['snippet']['topLevelComment']['snippet']['textOriginal'] for comment in response['items'][0:10]]\n",
    "            comments_in_video_info = {'video_id': video_id, 'comments': comments_in_video}\n",
    "\n",
    "            all_comments.append(comments_in_video_info)\n",
    "            \n",
    "        except: \n",
    "            # When error occurs - most likely because comments are disabled on a video\n",
    "            print('Could not get comments for video ' + video_id)\n",
    "        \n",
    "    return pd.DataFrame(all_comments)     \n"
   ]
  },
  {
   "cell_type": "code",
   "execution_count": 17,
   "metadata": {},
   "outputs": [
    {
     "name": "stdout",
     "output_type": "stream",
     "text": [
      "Could not get comments for video wCMJ0uMAAeo\n",
      "Could not get comments for video _5p0_R5osR8\n",
      "Could not get comments for video VBS-VG264gU\n"
     ]
    }
   ],
   "source": [
    "comments_df = get_comments_in_videos(youtube, video_ids)"
   ]
  },
  {
   "cell_type": "code",
   "execution_count": 61,
   "metadata": {},
   "outputs": [
    {
     "data": {
      "text/html": [
       "<div>\n",
       "<style scoped>\n",
       "    .dataframe tbody tr th:only-of-type {\n",
       "        vertical-align: middle;\n",
       "    }\n",
       "\n",
       "    .dataframe tbody tr th {\n",
       "        vertical-align: top;\n",
       "    }\n",
       "\n",
       "    .dataframe thead th {\n",
       "        text-align: right;\n",
       "    }\n",
       "</style>\n",
       "<table border=\"1\" class=\"dataframe\">\n",
       "  <thead>\n",
       "    <tr style=\"text-align: right;\">\n",
       "      <th></th>\n",
       "      <th>video_id</th>\n",
       "      <th>comments</th>\n",
       "    </tr>\n",
       "  </thead>\n",
       "  <tbody>\n",
       "    <tr>\n",
       "      <th>0</th>\n",
       "      <td>1XADpb94foI</td>\n",
       "      <td>[]</td>\n",
       "    </tr>\n",
       "    <tr>\n",
       "      <th>1</th>\n",
       "      <td>GriL5mOucOI</td>\n",
       "      <td>[]</td>\n",
       "    </tr>\n",
       "    <tr>\n",
       "      <th>2</th>\n",
       "      <td>a7eNWhEp0-4</td>\n",
       "      <td>[đầm ấm quá ạ, happy new year]</td>\n",
       "    </tr>\n",
       "    <tr>\n",
       "      <th>3</th>\n",
       "      <td>xyDoFxlYXl4</td>\n",
       "      <td>[]</td>\n",
       "    </tr>\n",
       "    <tr>\n",
       "      <th>4</th>\n",
       "      <td>cJ7XUMFVarc</td>\n",
       "      <td>[kết vội thế anh zai]</td>\n",
       "    </tr>\n",
       "    <tr>\n",
       "      <th>...</th>\n",
       "      <td>...</td>\n",
       "      <td>...</td>\n",
       "    </tr>\n",
       "    <tr>\n",
       "      <th>58</th>\n",
       "      <td>8uEFzXc5p5g</td>\n",
       "      <td>[]</td>\n",
       "    </tr>\n",
       "    <tr>\n",
       "      <th>59</th>\n",
       "      <td>WcsU3UfFXAg</td>\n",
       "      <td>[]</td>\n",
       "    </tr>\n",
       "    <tr>\n",
       "      <th>60</th>\n",
       "      <td>lDAKtJvvVOc</td>\n",
       "      <td>[]</td>\n",
       "    </tr>\n",
       "    <tr>\n",
       "      <th>61</th>\n",
       "      <td>ORWg20EIWvc</td>\n",
       "      <td>[]</td>\n",
       "    </tr>\n",
       "    <tr>\n",
       "      <th>62</th>\n",
       "      <td>FK6Vo1lilPU</td>\n",
       "      <td>[]</td>\n",
       "    </tr>\n",
       "  </tbody>\n",
       "</table>\n",
       "<p>63 rows × 2 columns</p>\n",
       "</div>"
      ],
      "text/plain": [
       "       video_id                        comments\n",
       "0   1XADpb94foI                              []\n",
       "1   GriL5mOucOI                              []\n",
       "2   a7eNWhEp0-4  [đầm ấm quá ạ, happy new year]\n",
       "3   xyDoFxlYXl4                              []\n",
       "4   cJ7XUMFVarc           [kết vội thế anh zai]\n",
       "..          ...                             ...\n",
       "58  8uEFzXc5p5g                              []\n",
       "59  WcsU3UfFXAg                              []\n",
       "60  lDAKtJvvVOc                              []\n",
       "61  ORWg20EIWvc                              []\n",
       "62  FK6Vo1lilPU                              []\n",
       "\n",
       "[63 rows x 2 columns]"
      ]
     },
     "execution_count": 61,
     "metadata": {},
     "output_type": "execute_result"
    }
   ],
   "source": [
    "comments_df"
   ]
  },
  {
   "cell_type": "code",
   "execution_count": 60,
   "metadata": {},
   "outputs": [
    {
     "data": {
      "text/plain": [
       "63"
      ]
     },
     "execution_count": 60,
     "metadata": {},
     "output_type": "execute_result"
    }
   ],
   "source": [
    "len(comments_df)"
   ]
  },
  {
   "cell_type": "markdown",
   "metadata": {},
   "source": [
    "Data preprocessing"
   ]
  },
  {
   "cell_type": "code",
   "execution_count": 64,
   "metadata": {},
   "outputs": [
    {
     "data": {
      "text/plain": [
       "video_id          False\n",
       "channelTitle      False\n",
       "title             False\n",
       "description       False\n",
       "tags               True\n",
       "publishedAt       False\n",
       "viewCount         False\n",
       "likeCount         False\n",
       "favouriteCount     True\n",
       "commentCount       True\n",
       "duration          False\n",
       "definition        False\n",
       "caption           False\n",
       "dtype: bool"
      ]
     },
     "execution_count": 64,
     "metadata": {},
     "output_type": "execute_result"
    }
   ],
   "source": [
    "video_df.isnull().any()"
   ]
  },
  {
   "cell_type": "code",
   "execution_count": 65,
   "metadata": {},
   "outputs": [
    {
     "data": {
      "text/plain": [
       "video_id          object\n",
       "channelTitle      object\n",
       "title             object\n",
       "description       object\n",
       "tags              object\n",
       "publishedAt       object\n",
       "viewCount         object\n",
       "likeCount         object\n",
       "favouriteCount    object\n",
       "commentCount      object\n",
       "duration          object\n",
       "definition        object\n",
       "caption           object\n",
       "dtype: object"
      ]
     },
     "execution_count": 65,
     "metadata": {},
     "output_type": "execute_result"
    }
   ],
   "source": [
    "video_df.dtypes"
   ]
  },
  {
   "cell_type": "code",
   "execution_count": 66,
   "metadata": {},
   "outputs": [],
   "source": [
    "numeric_cols = ['viewCount', 'likeCount', 'favouriteCount', 'commentCount']\n",
    "video_df[numeric_cols] = video_df[numeric_cols].apply(pd.to_numeric, errors='coerce', axis=1)"
   ]
  },
  {
   "cell_type": "code",
   "execution_count": 70,
   "metadata": {},
   "outputs": [],
   "source": [
    "#Publish day in the week\n",
    "video_df['publishedAt'] = video_df['publishedAt'].apply(lambda x: parser.parse(x))\n",
    "video_df['publishedAt'] = video_df['publishedAt'].apply(lambda x :x.strftime(\"%A\"))"
   ]
  },
  {
   "cell_type": "code",
   "execution_count": 71,
   "metadata": {},
   "outputs": [],
   "source": [
    "import isodate\n",
    "video_df['durationSecs'] = video_df['duration'].apply(lambda x: isodate.parse_duration(x))\n",
    "video_df['durationSecs'] = video_df['durationSecs'].astype('timedelta64[s]') "
   ]
  },
  {
   "cell_type": "code",
   "execution_count": 72,
   "metadata": {},
   "outputs": [
    {
     "data": {
      "text/html": [
       "<div>\n",
       "<style scoped>\n",
       "    .dataframe tbody tr th:only-of-type {\n",
       "        vertical-align: middle;\n",
       "    }\n",
       "\n",
       "    .dataframe tbody tr th {\n",
       "        vertical-align: top;\n",
       "    }\n",
       "\n",
       "    .dataframe thead th {\n",
       "        text-align: right;\n",
       "    }\n",
       "</style>\n",
       "<table border=\"1\" class=\"dataframe\">\n",
       "  <thead>\n",
       "    <tr style=\"text-align: right;\">\n",
       "      <th></th>\n",
       "      <th>durationSecs</th>\n",
       "      <th>duration</th>\n",
       "    </tr>\n",
       "  </thead>\n",
       "  <tbody>\n",
       "    <tr>\n",
       "      <th>0</th>\n",
       "      <td>318.0</td>\n",
       "      <td>PT5M18S</td>\n",
       "    </tr>\n",
       "    <tr>\n",
       "      <th>1</th>\n",
       "      <td>113.0</td>\n",
       "      <td>PT1M53S</td>\n",
       "    </tr>\n",
       "    <tr>\n",
       "      <th>2</th>\n",
       "      <td>21.0</td>\n",
       "      <td>PT21S</td>\n",
       "    </tr>\n",
       "    <tr>\n",
       "      <th>3</th>\n",
       "      <td>138.0</td>\n",
       "      <td>PT2M18S</td>\n",
       "    </tr>\n",
       "    <tr>\n",
       "      <th>4</th>\n",
       "      <td>235.0</td>\n",
       "      <td>PT3M55S</td>\n",
       "    </tr>\n",
       "    <tr>\n",
       "      <th>...</th>\n",
       "      <td>...</td>\n",
       "      <td>...</td>\n",
       "    </tr>\n",
       "    <tr>\n",
       "      <th>61</th>\n",
       "      <td>5.0</td>\n",
       "      <td>PT5S</td>\n",
       "    </tr>\n",
       "    <tr>\n",
       "      <th>62</th>\n",
       "      <td>8.0</td>\n",
       "      <td>PT8S</td>\n",
       "    </tr>\n",
       "    <tr>\n",
       "      <th>63</th>\n",
       "      <td>9.0</td>\n",
       "      <td>PT9S</td>\n",
       "    </tr>\n",
       "    <tr>\n",
       "      <th>64</th>\n",
       "      <td>244.0</td>\n",
       "      <td>PT4M4S</td>\n",
       "    </tr>\n",
       "    <tr>\n",
       "      <th>65</th>\n",
       "      <td>200.0</td>\n",
       "      <td>PT3M20S</td>\n",
       "    </tr>\n",
       "  </tbody>\n",
       "</table>\n",
       "<p>66 rows × 2 columns</p>\n",
       "</div>"
      ],
      "text/plain": [
       "    durationSecs duration\n",
       "0          318.0  PT5M18S\n",
       "1          113.0  PT1M53S\n",
       "2           21.0    PT21S\n",
       "3          138.0  PT2M18S\n",
       "4          235.0  PT3M55S\n",
       "..           ...      ...\n",
       "61           5.0     PT5S\n",
       "62           8.0     PT8S\n",
       "63           9.0     PT9S\n",
       "64         244.0   PT4M4S\n",
       "65         200.0  PT3M20S\n",
       "\n",
       "[66 rows x 2 columns]"
      ]
     },
     "execution_count": 72,
     "metadata": {},
     "output_type": "execute_result"
    }
   ],
   "source": [
    "video_df[['durationSecs', 'duration']]"
   ]
  },
  {
   "cell_type": "code",
   "execution_count": 73,
   "metadata": {},
   "outputs": [],
   "source": [
    "# Add tag count\n",
    "video_df['tagCount'] = video_df['tags'].apply(lambda x: 0 if x is None else len(x))"
   ]
  },
  {
   "cell_type": "code",
   "execution_count": 74,
   "metadata": {},
   "outputs": [
    {
     "data": {
      "text/html": [
       "<div>\n",
       "<style scoped>\n",
       "    .dataframe tbody tr th:only-of-type {\n",
       "        vertical-align: middle;\n",
       "    }\n",
       "\n",
       "    .dataframe tbody tr th {\n",
       "        vertical-align: top;\n",
       "    }\n",
       "\n",
       "    .dataframe thead th {\n",
       "        text-align: right;\n",
       "    }\n",
       "</style>\n",
       "<table border=\"1\" class=\"dataframe\">\n",
       "  <thead>\n",
       "    <tr style=\"text-align: right;\">\n",
       "      <th></th>\n",
       "      <th>video_id</th>\n",
       "      <th>channelTitle</th>\n",
       "      <th>title</th>\n",
       "      <th>description</th>\n",
       "      <th>tags</th>\n",
       "      <th>publishedAt</th>\n",
       "      <th>viewCount</th>\n",
       "      <th>likeCount</th>\n",
       "      <th>favouriteCount</th>\n",
       "      <th>commentCount</th>\n",
       "      <th>duration</th>\n",
       "      <th>definition</th>\n",
       "      <th>caption</th>\n",
       "      <th>durationSecs</th>\n",
       "      <th>tagCount</th>\n",
       "    </tr>\n",
       "  </thead>\n",
       "  <tbody>\n",
       "    <tr>\n",
       "      <th>0</th>\n",
       "      <td>1XADpb94foI</td>\n",
       "      <td>Vê Tê Lờ</td>\n",
       "      <td>Kể chuyện 5 tháng trong 5 phút</td>\n",
       "      <td>Nơi lưu giữ kỉ niệm cho tuổi thanh xuân \\n► Su...</td>\n",
       "      <td>[# Flyingbee, #Báchkhoa, Tấu Hài, Trip everyyear]</td>\n",
       "      <td>Wednesday</td>\n",
       "      <td>106.0</td>\n",
       "      <td>4.0</td>\n",
       "      <td>NaN</td>\n",
       "      <td>0.0</td>\n",
       "      <td>PT5M18S</td>\n",
       "      <td>hd</td>\n",
       "      <td>false</td>\n",
       "      <td>318.0</td>\n",
       "      <td>4</td>\n",
       "    </tr>\n",
       "    <tr>\n",
       "      <th>1</th>\n",
       "      <td>GriL5mOucOI</td>\n",
       "      <td>Vê Tê Lờ</td>\n",
       "      <td>Nước đi này hơi sai cho đi lại được không</td>\n",
       "      <td></td>\n",
       "      <td>None</td>\n",
       "      <td>Wednesday</td>\n",
       "      <td>14.0</td>\n",
       "      <td>2.0</td>\n",
       "      <td>NaN</td>\n",
       "      <td>0.0</td>\n",
       "      <td>PT1M53S</td>\n",
       "      <td>hd</td>\n",
       "      <td>false</td>\n",
       "      <td>113.0</td>\n",
       "      <td>0</td>\n",
       "    </tr>\n",
       "    <tr>\n",
       "      <th>2</th>\n",
       "      <td>a7eNWhEp0-4</td>\n",
       "      <td>Vê Tê Lờ</td>\n",
       "      <td>My first Tet away from home #tet2023 #daisuqua...</td>\n",
       "      <td>Tết xa nhà đầu tiên</td>\n",
       "      <td>None</td>\n",
       "      <td>Tuesday</td>\n",
       "      <td>49.0</td>\n",
       "      <td>3.0</td>\n",
       "      <td>NaN</td>\n",
       "      <td>2.0</td>\n",
       "      <td>PT21S</td>\n",
       "      <td>hd</td>\n",
       "      <td>false</td>\n",
       "      <td>21.0</td>\n",
       "      <td>0</td>\n",
       "    </tr>\n",
       "    <tr>\n",
       "      <th>3</th>\n",
       "      <td>xyDoFxlYXl4</td>\n",
       "      <td>Vê Tê Lờ</td>\n",
       "      <td>Bết xác - Đây là những gì mình nhớ hôm đó uống...</td>\n",
       "      <td>Uống mất xác\\n► Subscribe: https://youtu.be/AT...</td>\n",
       "      <td>[# Flyingbee, #Báchkhoa, Tấu Hài, Trip everyyear]</td>\n",
       "      <td>Thursday</td>\n",
       "      <td>25.0</td>\n",
       "      <td>2.0</td>\n",
       "      <td>NaN</td>\n",
       "      <td>0.0</td>\n",
       "      <td>PT2M18S</td>\n",
       "      <td>hd</td>\n",
       "      <td>false</td>\n",
       "      <td>138.0</td>\n",
       "      <td>4</td>\n",
       "    </tr>\n",
       "    <tr>\n",
       "      <th>4</th>\n",
       "      <td>cJ7XUMFVarc</td>\n",
       "      <td>Vê Tê Lờ</td>\n",
       "      <td>CHUYẾN ĐI CUỐI CÙNG CỦA NĂM 2022 - CHỐT HẠAAA!...</td>\n",
       "      <td>Một chuyến đi 1 mình tự thưởng cho bản thân vì...</td>\n",
       "      <td>[# Flyingbee, #Báchkhoa, Tấu Hài, # Flyingbee,...</td>\n",
       "      <td>Thursday</td>\n",
       "      <td>161.0</td>\n",
       "      <td>3.0</td>\n",
       "      <td>NaN</td>\n",
       "      <td>1.0</td>\n",
       "      <td>PT3M55S</td>\n",
       "      <td>hd</td>\n",
       "      <td>false</td>\n",
       "      <td>235.0</td>\n",
       "      <td>9</td>\n",
       "    </tr>\n",
       "    <tr>\n",
       "      <th>...</th>\n",
       "      <td>...</td>\n",
       "      <td>...</td>\n",
       "      <td>...</td>\n",
       "      <td>...</td>\n",
       "      <td>...</td>\n",
       "      <td>...</td>\n",
       "      <td>...</td>\n",
       "      <td>...</td>\n",
       "      <td>...</td>\n",
       "      <td>...</td>\n",
       "      <td>...</td>\n",
       "      <td>...</td>\n",
       "      <td>...</td>\n",
       "      <td>...</td>\n",
       "      <td>...</td>\n",
       "    </tr>\n",
       "    <tr>\n",
       "      <th>61</th>\n",
       "      <td>8uEFzXc5p5g</td>\n",
       "      <td>Vê Tê Lờ</td>\n",
       "      <td>FLYING WITH BEE</td>\n",
       "      <td></td>\n",
       "      <td>None</td>\n",
       "      <td>Saturday</td>\n",
       "      <td>22.0</td>\n",
       "      <td>0.0</td>\n",
       "      <td>NaN</td>\n",
       "      <td>0.0</td>\n",
       "      <td>PT5S</td>\n",
       "      <td>hd</td>\n",
       "      <td>false</td>\n",
       "      <td>5.0</td>\n",
       "      <td>0</td>\n",
       "    </tr>\n",
       "    <tr>\n",
       "      <th>62</th>\n",
       "      <td>WcsU3UfFXAg</td>\n",
       "      <td>Vê Tê Lờ</td>\n",
       "      <td>FOLLOW ME</td>\n",
       "      <td></td>\n",
       "      <td>None</td>\n",
       "      <td>Wednesday</td>\n",
       "      <td>23.0</td>\n",
       "      <td>0.0</td>\n",
       "      <td>NaN</td>\n",
       "      <td>0.0</td>\n",
       "      <td>PT8S</td>\n",
       "      <td>hd</td>\n",
       "      <td>false</td>\n",
       "      <td>8.0</td>\n",
       "      <td>0</td>\n",
       "    </tr>\n",
       "    <tr>\n",
       "      <th>63</th>\n",
       "      <td>lDAKtJvvVOc</td>\n",
       "      <td>Vê Tê Lờ</td>\n",
       "      <td>FLYING WITH BEE</td>\n",
       "      <td></td>\n",
       "      <td>None</td>\n",
       "      <td>Tuesday</td>\n",
       "      <td>20.0</td>\n",
       "      <td>0.0</td>\n",
       "      <td>NaN</td>\n",
       "      <td>0.0</td>\n",
       "      <td>PT9S</td>\n",
       "      <td>hd</td>\n",
       "      <td>false</td>\n",
       "      <td>9.0</td>\n",
       "      <td>0</td>\n",
       "    </tr>\n",
       "    <tr>\n",
       "      <th>64</th>\n",
       "      <td>ORWg20EIWvc</td>\n",
       "      <td>Vê Tê Lờ</td>\n",
       "      <td>VietNam my homeland</td>\n",
       "      <td></td>\n",
       "      <td>None</td>\n",
       "      <td>Wednesday</td>\n",
       "      <td>90.0</td>\n",
       "      <td>1.0</td>\n",
       "      <td>NaN</td>\n",
       "      <td>0.0</td>\n",
       "      <td>PT4M4S</td>\n",
       "      <td>sd</td>\n",
       "      <td>false</td>\n",
       "      <td>244.0</td>\n",
       "      <td>0</td>\n",
       "    </tr>\n",
       "    <tr>\n",
       "      <th>65</th>\n",
       "      <td>FK6Vo1lilPU</td>\n",
       "      <td>Vê Tê Lờ</td>\n",
       "      <td>Behind The Scenes-MV Tet Holiday</td>\n",
       "      <td></td>\n",
       "      <td>None</td>\n",
       "      <td>Wednesday</td>\n",
       "      <td>67.0</td>\n",
       "      <td>1.0</td>\n",
       "      <td>NaN</td>\n",
       "      <td>0.0</td>\n",
       "      <td>PT3M20S</td>\n",
       "      <td>hd</td>\n",
       "      <td>false</td>\n",
       "      <td>200.0</td>\n",
       "      <td>0</td>\n",
       "    </tr>\n",
       "  </tbody>\n",
       "</table>\n",
       "<p>66 rows × 15 columns</p>\n",
       "</div>"
      ],
      "text/plain": [
       "       video_id channelTitle  \\\n",
       "0   1XADpb94foI     Vê Tê Lờ   \n",
       "1   GriL5mOucOI     Vê Tê Lờ   \n",
       "2   a7eNWhEp0-4     Vê Tê Lờ   \n",
       "3   xyDoFxlYXl4     Vê Tê Lờ   \n",
       "4   cJ7XUMFVarc     Vê Tê Lờ   \n",
       "..          ...          ...   \n",
       "61  8uEFzXc5p5g     Vê Tê Lờ   \n",
       "62  WcsU3UfFXAg     Vê Tê Lờ   \n",
       "63  lDAKtJvvVOc     Vê Tê Lờ   \n",
       "64  ORWg20EIWvc     Vê Tê Lờ   \n",
       "65  FK6Vo1lilPU     Vê Tê Lờ   \n",
       "\n",
       "                                                title  \\\n",
       "0                      Kể chuyện 5 tháng trong 5 phút   \n",
       "1           Nước đi này hơi sai cho đi lại được không   \n",
       "2   My first Tet away from home #tet2023 #daisuqua...   \n",
       "3   Bết xác - Đây là những gì mình nhớ hôm đó uống...   \n",
       "4   CHUYẾN ĐI CUỐI CÙNG CỦA NĂM 2022 - CHỐT HẠAAA!...   \n",
       "..                                                ...   \n",
       "61                                    FLYING WITH BEE   \n",
       "62                                          FOLLOW ME   \n",
       "63                                    FLYING WITH BEE   \n",
       "64                                VietNam my homeland   \n",
       "65                   Behind The Scenes-MV Tet Holiday   \n",
       "\n",
       "                                          description  \\\n",
       "0   Nơi lưu giữ kỉ niệm cho tuổi thanh xuân \\n► Su...   \n",
       "1                                                       \n",
       "2                                 Tết xa nhà đầu tiên   \n",
       "3   Uống mất xác\\n► Subscribe: https://youtu.be/AT...   \n",
       "4   Một chuyến đi 1 mình tự thưởng cho bản thân vì...   \n",
       "..                                                ...   \n",
       "61                                                      \n",
       "62                                                      \n",
       "63                                                      \n",
       "64                                                      \n",
       "65                                                      \n",
       "\n",
       "                                                 tags publishedAt  viewCount  \\\n",
       "0   [# Flyingbee, #Báchkhoa, Tấu Hài, Trip everyyear]   Wednesday      106.0   \n",
       "1                                                None   Wednesday       14.0   \n",
       "2                                                None     Tuesday       49.0   \n",
       "3   [# Flyingbee, #Báchkhoa, Tấu Hài, Trip everyyear]    Thursday       25.0   \n",
       "4   [# Flyingbee, #Báchkhoa, Tấu Hài, # Flyingbee,...    Thursday      161.0   \n",
       "..                                                ...         ...        ...   \n",
       "61                                               None    Saturday       22.0   \n",
       "62                                               None   Wednesday       23.0   \n",
       "63                                               None     Tuesday       20.0   \n",
       "64                                               None   Wednesday       90.0   \n",
       "65                                               None   Wednesday       67.0   \n",
       "\n",
       "    likeCount  favouriteCount  commentCount duration definition caption  \\\n",
       "0         4.0             NaN           0.0  PT5M18S         hd   false   \n",
       "1         2.0             NaN           0.0  PT1M53S         hd   false   \n",
       "2         3.0             NaN           2.0    PT21S         hd   false   \n",
       "3         2.0             NaN           0.0  PT2M18S         hd   false   \n",
       "4         3.0             NaN           1.0  PT3M55S         hd   false   \n",
       "..        ...             ...           ...      ...        ...     ...   \n",
       "61        0.0             NaN           0.0     PT5S         hd   false   \n",
       "62        0.0             NaN           0.0     PT8S         hd   false   \n",
       "63        0.0             NaN           0.0     PT9S         hd   false   \n",
       "64        1.0             NaN           0.0   PT4M4S         sd   false   \n",
       "65        1.0             NaN           0.0  PT3M20S         hd   false   \n",
       "\n",
       "    durationSecs  tagCount  \n",
       "0          318.0         4  \n",
       "1          113.0         0  \n",
       "2           21.0         0  \n",
       "3          138.0         4  \n",
       "4          235.0         9  \n",
       "..           ...       ...  \n",
       "61           5.0         0  \n",
       "62           8.0         0  \n",
       "63           9.0         0  \n",
       "64         244.0         0  \n",
       "65         200.0         0  \n",
       "\n",
       "[66 rows x 15 columns]"
      ]
     },
     "execution_count": 74,
     "metadata": {},
     "output_type": "execute_result"
    }
   ],
   "source": [
    "video_df"
   ]
  },
  {
   "cell_type": "markdown",
   "metadata": {},
   "source": [
    "# **EDA**"
   ]
  },
  {
   "cell_type": "markdown",
   "metadata": {
    "tags": []
   },
   "source": [
    "# Best performing videos"
   ]
  },
  {
   "cell_type": "code",
   "execution_count": 83,
   "metadata": {},
   "outputs": [
    {
     "data": {
      "image/png": "[encoded data removed]",
      "text/plain": [
       "<Figure size 640x480 with 1 Axes>"
      ]
     },
     "metadata": {},
     "output_type": "display_data"
    }
   ],
   "source": [
    "ax = sns.barplot(x='title', y='viewCount', data=video_df.sort_values('viewCount', ascending=False)[0:9])\n",
    "plot = ax.set_xticklabels(ax.get_xticklabels(), rotation=90)\n",
    "ax.yaxis.set_major_formatter(ticker.FuncFormatter(lambda x, pos:'{:,.0f}'.format(x/1000) + 'K'))"
   ]
  },
  {
   "cell_type": "markdown",
   "metadata": {
    "tags": []
   },
   "source": [
    "# Worst performing videos"
   ]
  },
  {
   "cell_type": "code",
   "execution_count": 99,
   "metadata": {},
   "outputs": [
    {
     "name": "stderr",
     "output_type": "stream",
     "text": [
      "/home/nhat/Documents/Project/youtube_api/my_env/lib/python3.9/site-packages/IPython/core/events.py:89: UserWarning: Glyph 127468 (\\N{REGIONAL INDICATOR SYMBOL LETTER G}) missing from current font.\n",
      "  func(*args, **kwargs)\n",
      "/home/nhat/Documents/Project/youtube_api/my_env/lib/python3.9/site-packages/IPython/core/events.py:89: UserWarning: Glyph 127479 (\\N{REGIONAL INDICATOR SYMBOL LETTER R}) missing from current font.\n",
      "  func(*args, **kwargs)\n",
      "/home/nhat/Documents/Project/youtube_api/my_env/lib/python3.9/site-packages/IPython/core/events.py:89: UserWarning: Glyph 127809 (\\N{MAPLE LEAF}) missing from current font.\n",
      "  func(*args, **kwargs)\n",
      "/home/nhat/Documents/Project/youtube_api/my_env/lib/python3.9/site-packages/IPython/core/pylabtools.py:152: UserWarning: Glyph 127468 (\\N{REGIONAL INDICATOR SYMBOL LETTER G}) missing from current font.\n",
      "  fig.canvas.print_figure(bytes_io, **kw)\n",
      "/home/nhat/Documents/Project/youtube_api/my_env/lib/python3.9/site-packages/IPython/core/pylabtools.py:152: UserWarning: Glyph 127479 (\\N{REGIONAL INDICATOR SYMBOL LETTER R}) missing from current font.\n",
      "  fig.canvas.print_figure(bytes_io, **kw)\n",
      "/home/nhat/Documents/Project/youtube_api/my_env/lib/python3.9/site-packages/IPython/core/pylabtools.py:152: UserWarning: Glyph 127809 (\\N{MAPLE LEAF}) missing from current font.\n",
      "  fig.canvas.print_figure(bytes_io, **kw)\n"
     ]
    },
    {
     "data": {
      "image/png": "[encoded data removed]",
      "text/plain": [
       "<Figure size 640x480 with 1 Axes>"
      ]
     },
     "metadata": {},
     "output_type": "display_data"
    }
   ],
   "source": [
    "ax = sns.barplot(x = 'title', y = 'viewCount', data = video_df.sort_values('viewCount', ascending=True)[0:9])\n",
    "plot = ax.set_xticklabels(ax.get_xticklabels(), rotation=90)\n",
    "ax.yaxis.set_major_formatter(ticker.FuncFormatter(lambda x, pos:'{:,.0f}'.format(x)))\n",
    "\n",
    "\n",
    "\n"
   ]
  },
  {
   "cell_type": "code",
   "execution_count": 23,
   "metadata": {},
   "outputs": [
    {
     "name": "stdout",
     "output_type": "stream",
     "text": [
      "[{'kind': 'youtube#channel', 'etag': '3vgjCLQjF98gbvEylxYmBkvdcZo', 'id': 'UCIUt1auGAZGqo3jmeP-LB1g', 'snippet': {'title': 'Vê Tê Lờ', 'description': 'Kênh lưu giữ kỉ niệm của cuộc đời Vê Tê Lờ \\nCapturing every moment as if its your last \\nFLYING WITH ME', 'customUrl': '@vetelo612', 'publishedAt': '2015-07-29T17:05:51Z', 'thumbnails': {'default': {'url': 'https://yt3.ggpht.com/vmuIMuBTsLbCPEZ3s8W4BQxMS4b8JA6l7dntD-X-Njf-HmmgFgjo9tZM7MCezbeH1S27c4Km=s88-c-k-c0x00ffffff-no-rj', 'width': 88, 'height': 88}, 'medium': {'url': 'https://yt3.ggpht.com/vmuIMuBTsLbCPEZ3s8W4BQxMS4b8JA6l7dntD-X-Njf-HmmgFgjo9tZM7MCezbeH1S27c4Km=s240-c-k-c0x00ffffff-no-rj', 'width': 240, 'height': 240}, 'high': {'url': 'https://yt3.ggpht.com/vmuIMuBTsLbCPEZ3s8W4BQxMS4b8JA6l7dntD-X-Njf-HmmgFgjo9tZM7MCezbeH1S27c4Km=s800-c-k-c0x00ffffff-no-rj', 'width': 800, 'height': 800}}, 'localized': {'title': 'Vê Tê Lờ', 'description': 'Kênh lưu giữ kỉ niệm của cuộc đời Vê Tê Lờ \\nCapturing every moment as if its your last \\nFLYING WITH ME'}, 'country': 'VN'}}]\n"
     ]
    }
   ],
   "source": [
    "request = youtube.commentThreads().list(\n",
    "                part=\"snippet,replies\",\n",
    "                videoId=video_id\n",
    "            )\n",
    "response = request.execute()\n",
    "print(response['items'])"
   ]
  },
  {
   "cell_type": "markdown",
   "metadata": {
    "tags": []
   },
   "source": [
    "# Get video comments"
   ]
  },
  {
   "cell_type": "code",
   "execution_count": 71,
   "metadata": {},
   "outputs": [
    {
     "name": "stdout",
     "output_type": "stream",
     "text": [
      "Could not get comments for video 9f6BxN2boCY\n"
     ]
    }
   ],
   "source": [
    "def get_comments_in_videos(youtube, video_ids):\n",
    "    \"\"\"\n",
    "    Get top level comments as text from all videos with given IDs (only the first 10 comments due to quote limit of Youtube API)\n",
    "    Params:\n",
    "    \n",
    "    youtube: the build object from googleapiclient.discovery\n",
    "    video_ids: list of video IDs\n",
    "    \n",
    "    Returns:\n",
    "    Dataframe with video IDs and associated top level comment in text.\n",
    "    \n",
    "    \"\"\"\n",
    "    all_comments = []\n",
    "    parent_ids = []\n",
    "    \n",
    "    for video_id in video_ids:\n",
    "        try:   \n",
    "            request = youtube.commentThreads().list(\n",
    "                part=\"snippet,replies\",\n",
    "                videoId=video_id,\n",
    "                maxResults=30\n",
    "            )\n",
    "            response = request.execute()\n",
    "        \n",
    "            comments_in_video = [comment['snippet']['topLevelComment']['snippet']['textOriginal'] for comment in response['items'][0:30]]\n",
    "            replies = [comment['replies']['comments']['snippet']['textOriginal'] for comment in response['items'][0:30]]\n",
    "            comments_in_video_info = {'video_id': video_id, 'comments': comments_in_video, 'replies': replies}\n",
    "            all_comments.append(comments_in_video_info)\n",
    "            \n",
    "        except: \n",
    "            # When error occurs - most likely because comments are disabled on a video\n",
    "            print('Could not get comments for video ' + video_id)\n",
    "        \n",
    "    return pd.DataFrame(all_comments)     \n",
    "\n",
    "comment_df = get_comments_in_videos(youtube, ['9f6BxN2boCY'])"
   ]
  },
  {
   "cell_type": "code",
   "execution_count": 72,
   "metadata": {},
   "outputs": [
    {
     "data": {
      "text/html": [
       "<div>\n",
       "<style scoped>\n",
       "    .dataframe tbody tr th:only-of-type {\n",
       "        vertical-align: middle;\n",
       "    }\n",
       "\n",
       "    .dataframe tbody tr th {\n",
       "        vertical-align: top;\n",
       "    }\n",
       "\n",
       "    .dataframe thead th {\n",
       "        text-align: right;\n",
       "    }\n",
       "</style>\n",
       "<table border=\"1\" class=\"dataframe\">\n",
       "  <thead>\n",
       "    <tr style=\"text-align: right;\">\n",
       "      <th></th>\n",
       "    </tr>\n",
       "  </thead>\n",
       "  <tbody>\n",
       "  </tbody>\n",
       "</table>\n",
       "</div>"
      ],
      "text/plain": [
       "Empty DataFrame\n",
       "Columns: []\n",
       "Index: []"
      ]
     },
     "execution_count": 72,
     "metadata": {},
     "output_type": "execute_result"
    }
   ],
   "source": [
    "comment_df"
   ]
  },
  {
   "cell_type": "code",
   "execution_count": 70,
   "metadata": {},
   "outputs": [
    {
     "data": {
      "text/plain": [
       "24"
      ]
     },
     "execution_count": 70,
     "metadata": {},
     "output_type": "execute_result"
    }
   ],
   "source": [
    "len(comment_df['comments'][0])"
   ]
  },
  {
   "cell_type": "code",
   "execution_count": 78,
   "metadata": {},
   "outputs": [
    {
     "name": "stdout",
     "output_type": "stream",
     "text": [
      "{'kind': 'youtube#commentThreadListResponse', 'etag': 'gmsOZf6lkBYZXaQejukEjB0lDiM', 'pageInfo': {'totalResults': 24, 'resultsPerPage': 30}, 'items': [{'kind': 'youtube#commentThread', 'etag': 'tUKOqwdIPMLarOLiR2s3iVJkRW8', 'id': 'Ugwa3T138VEGC8d2kN94AaABAg', 'snippet': {'videoId': '9f6BxN2boCY', 'topLevelComment': {'kind': 'youtube#comment', 'etag': 'BlaUfglRLvffD-hj_7A2yv3kezU', 'id': 'Ugwa3T138VEGC8d2kN94AaABAg', 'snippet': {'videoId': '9f6BxN2boCY', 'textDisplay': 'Yêu chị so much❤', 'textOriginal': 'Yêu chị so much❤', 'authorDisplayName': 'Kim Nghi', 'authorProfileImageUrl': 'https://yt3.ggpht.com/ytc/AL5GRJVRCZif_UW1TBixLi81qZHj_bAggFjepbvxU3CD=s48-c-k-c0x00ffffff-no-rj', 'authorChannelUrl': 'http://www.youtube.com/channel/UC_DScjeV6gqKNc7bLSEyNvg', 'authorChannelId': {'value': 'UC_DScjeV6gqKNc7bLSEyNvg'}, 'canRate': True, 'viewerRating': 'none', 'likeCount': 0, 'publishedAt': '2021-01-28T09:24:09Z', 'updatedAt': '2021-01-28T09:24:09Z'}}, 'canReply': True, 'totalReplyCount': 0, 'isPublic': True}}, {'kind': 'youtube#commentThread', 'etag': '5SK1dr3P-B-WsO_UEXOoCfxOQ90', 'id': 'Ugxaa5Ptq_Rb2lJGZBR4AaABAg', 'snippet': {'videoId': '9f6BxN2boCY', 'topLevelComment': {'kind': 'youtube#comment', 'etag': 'Up-9AowkxaEgOki57wShfjjYyr4', 'id': 'Ugxaa5Ptq_Rb2lJGZBR4AaABAg', 'snippet': {'videoId': '9f6BxN2boCY', 'textDisplay': 'Toàn là một cô gái thông minh khéo léo tuyệt vời, vô cùng am hiểu tâm lý nữa', 'textOriginal': 'Toàn là một cô gái thông minh khéo léo tuyệt vời, vô cùng am hiểu tâm lý nữa', 'authorDisplayName': 'Hoa Lam Thi', 'authorProfileImageUrl': 'https://yt3.ggpht.com/ytc/AL5GRJW3mQ1GxtpT5KHW-GHASjmc0ZZJFIk6SEMuBh97uA=s48-c-k-c0x00ffffff-no-rj', 'authorChannelUrl': 'http://www.youtube.com/channel/UCpBbPigZqleH_iJbTfqpz1g', 'authorChannelId': {'value': 'UCpBbPigZqleH_iJbTfqpz1g'}, 'canRate': True, 'viewerRating': 'none', 'likeCount': 3, 'publishedAt': '2020-06-08T02:18:05Z', 'updatedAt': '2020-06-08T02:18:05Z'}}, 'canReply': True, 'totalReplyCount': 0, 'isPublic': True}}, {'kind': 'youtube#commentThread', 'etag': 'CzLO6mENvt7eEeU2dns_2_Mo9Z0', 'id': 'Ugxn7ZfX9wk11Gjimdh4AaABAg', 'snippet': {'videoId': '9f6BxN2boCY', 'topLevelComment': {'kind': 'youtube#comment', 'etag': 'QD8kEEsdMyRgW46tomLCg0Cx-OM', 'id': 'Ugxn7ZfX9wk11Gjimdh4AaABAg', 'snippet': {'videoId': '9f6BxN2boCY', 'textDisplay': 'Xin chao cô be xinh đep', 'textOriginal': 'Xin chao cô be xinh đep', 'authorDisplayName': 'Phiphi Luu', 'authorProfileImageUrl': 'https://yt3.ggpht.com/ytc/AL5GRJXszyDgc5gaN_Z9DNE3pJRMv623UfElYORWKw=s48-c-k-c0x00ffffff-no-rj', 'authorChannelUrl': 'http://www.youtube.com/channel/UCV_fSpMDGN2ULcd5szodjeg', 'authorChannelId': {'value': 'UCV_fSpMDGN2ULcd5szodjeg'}, 'canRate': True, 'viewerRating': 'none', 'likeCount': 0, 'publishedAt': '2020-03-01T08:25:29Z', 'updatedAt': '2020-03-01T08:25:29Z'}}, 'canReply': True, 'totalReplyCount': 0, 'isPublic': True}}, {'kind': 'youtube#commentThread', 'etag': 'QfXxdmeI8rw6UZFBmfNRUTvOUHI', 'id': 'UgzaAo3yxwcLXTos6SZ4AaABAg', 'snippet': {'videoId': '9f6BxN2boCY', 'topLevelComment': {'kind': 'youtube#comment', 'etag': 'ahBSB0uDHIxa3yivxoyaHrjV0HI', 'id': 'UgzaAo3yxwcLXTos6SZ4AaABAg', 'snippet': {'videoId': '9f6BxN2boCY', 'textDisplay': 'Toàn Nguyễn có thể cho anh xin số điện thoại được không ? Anh có việc khó nhờ em tư vấn. Anh cám ơn nhé !', 'textOriginal': 'Toàn Nguyễn có thể cho anh xin số điện thoại được không ? Anh có việc khó nhờ em tư vấn. Anh cám ơn nhé !', 'authorDisplayName': 'Đoàn Trịnh', 'authorProfileImageUrl': 'https://yt3.ggpht.com/ytc/AL5GRJVQcR6aHgqXnfhMSVQXM1PZRT-iidaiFZAnJlsalg=s48-c-k-c0x00ffffff-no-rj', 'authorChannelUrl': 'http://www.youtube.com/channel/UCMUvlqECyuRNbc6sAtdPOEA', 'authorChannelId': {'value': 'UCMUvlqECyuRNbc6sAtdPOEA'}, 'canRate': True, 'viewerRating': 'none', 'likeCount': 0, 'publishedAt': '2020-02-08T03:12:30Z', 'updatedAt': '2020-02-08T03:12:30Z'}}, 'canReply': True, 'totalReplyCount': 0, 'isPublic': True}}, {'kind': 'youtube#commentThread', 'etag': 'dpNqrvWACSZ9YXdr1e4O5tZW3dE', 'id': 'Ugy9uWGraJkSzwYPnfp4AaABAg', 'snippet': {'videoId': '9f6BxN2boCY', 'topLevelComment': {'kind': 'youtube#comment', 'etag': 'j6zrcosg7QPcnbL8L5w5n0E3MyM', 'id': 'Ugy9uWGraJkSzwYPnfp4AaABAg', 'snippet': {'videoId': '9f6BxN2boCY', 'textDisplay': 'Toàn ơi! mình muốn đc tư vấn trực tiếp thì phải làm sao', 'textOriginal': 'Toàn ơi! mình muốn đc tư vấn trực tiếp thì phải làm sao', 'authorDisplayName': 'Ha Luu', 'authorProfileImageUrl': 'https://yt3.ggpht.com/ytc/AL5GRJW-4kHD__DrUjMBdxIHUGtmTP7aNUBGFa1QVQ=s48-c-k-c0x00ffffff-no-rj', 'authorChannelUrl': 'http://www.youtube.com/channel/UCbpVrRRyo6uchx4CuNyEScA', 'authorChannelId': {'value': 'UCbpVrRRyo6uchx4CuNyEScA'}, 'canRate': True, 'viewerRating': 'none', 'likeCount': 0, 'publishedAt': '2019-11-02T18:19:17Z', 'updatedAt': '2019-11-02T18:19:17Z'}}, 'canReply': True, 'totalReplyCount': 0, 'isPublic': True}}, {'kind': 'youtube#commentThread', 'etag': 'ooYj4j38IqGTqw5qduUYPf5p734', 'id': 'Ugxe5LFY3Qo5j64rcc94AaABAg', 'snippet': {'videoId': '9f6BxN2boCY', 'topLevelComment': {'kind': 'youtube#comment', 'etag': 'bbhApN8DTqroakOps2kkCmUNB1E', 'id': 'Ugxe5LFY3Qo5j64rcc94AaABAg', 'snippet': {'videoId': '9f6BxN2boCY', 'textDisplay': '❤❤', 'textOriginal': '❤❤', 'authorDisplayName': 'Thuy Van Nguyen', 'authorProfileImageUrl': 'https://yt3.ggpht.com/ytc/AL5GRJWtagR0_1_RqPMdteE52XTPczrZhFXS_kZ7KpyJLw=s48-c-k-c0x00ffffff-no-rj', 'authorChannelUrl': 'http://www.youtube.com/channel/UCV-ZJwjyvad5oPzkZyVQogg', 'authorChannelId': {'value': 'UCV-ZJwjyvad5oPzkZyVQogg'}, 'canRate': True, 'viewerRating': 'none', 'likeCount': 0, 'publishedAt': '2019-10-28T22:53:50Z', 'updatedAt': '2019-10-28T22:53:50Z'}}, 'canReply': True, 'totalReplyCount': 0, 'isPublic': True}}, {'kind': 'youtube#commentThread', 'etag': 'f1ogxrGFRUPIKhs4DrWELoVJXxg', 'id': 'UgwBqSRol44ksKbP5B54AaABAg', 'snippet': {'videoId': '9f6BxN2boCY', 'topLevelComment': {'kind': 'youtube#comment', 'etag': '30rNMiOuiI8gzQbdC74Zow7r7r4', 'id': 'UgwBqSRol44ksKbP5B54AaABAg', 'snippet': {'videoId': '9f6BxN2boCY', 'textDisplay': 'Áo chị dag mặc đẹp quá. E cũng thik và muốn mua 1c. Ko biết áo này tên gọi là loại áo j để  e tìm mua ak', 'textOriginal': 'Áo chị dag mặc đẹp quá. E cũng thik và muốn mua 1c. Ko biết áo này tên gọi là loại áo j để  e tìm mua ak', 'authorDisplayName': 'lê hải sam', 'authorProfileImageUrl': 'https://yt3.ggpht.com/ytc/AL5GRJVKZXcsLyY99Puu9NjFj9CiZfmhZB0larjhyH66=s48-c-k-c0x00ffffff-no-rj', 'authorChannelUrl': 'http://www.youtube.com/channel/UCOZ5ambBo1WBE6SM5XBRl4A', 'authorChannelId': {'value': 'UCOZ5ambBo1WBE6SM5XBRl4A'}, 'canRate': True, 'viewerRating': 'none', 'likeCount': 0, 'publishedAt': '2019-08-10T20:27:46Z', 'updatedAt': '2019-08-10T20:27:46Z'}}, 'canReply': True, 'totalReplyCount': 0, 'isPublic': True}}, {'kind': 'youtube#commentThread', 'etag': 'mrD5ZSiyuDCUJ3nHgtbr9klaG8g', 'id': 'Ugx-AYkcgO2C4vr0Hqp4AaABAg', 'snippet': {'videoId': '9f6BxN2boCY', 'topLevelComment': {'kind': 'youtube#comment', 'etag': 'ibTtjaOr2TKd67Esyv-5JSRWoRQ', 'id': 'Ugx-AYkcgO2C4vr0Hqp4AaABAg', 'snippet': {'videoId': '9f6BxN2boCY', 'textDisplay': 'Tuyệt <br>Cám ơn ban', 'textOriginal': 'Tuyệt \\nCám ơn ban', 'authorDisplayName': 'Phuong Kim', 'authorProfileImageUrl': 'https://yt3.ggpht.com/ytc/AL5GRJXl_ULDoufDTnEdKOpzXrDg4wcxfDkxzKf7iw=s48-c-k-c0x00ffffff-no-rj', 'authorChannelUrl': 'http://www.youtube.com/channel/UCuaqei9rz_2hHhMLPjRPIlQ', 'authorChannelId': {'value': 'UCuaqei9rz_2hHhMLPjRPIlQ'}, 'canRate': True, 'viewerRating': 'none', 'likeCount': 1, 'publishedAt': '2019-07-15T14:23:09Z', 'updatedAt': '2019-07-15T14:23:09Z'}}, 'canReply': True, 'totalReplyCount': 0, 'isPublic': True}}, {'kind': 'youtube#commentThread', 'etag': 'HqHWX0p1EqggeSEYQEHI6zE5bs8', 'id': 'UgxYJTKwgh1-9VnWN_x4AaABAg', 'snippet': {'videoId': '9f6BxN2boCY', 'topLevelComment': {'kind': 'youtube#comment', 'etag': '4ptq7uukEsYnPxBBxLwCHncX_wQ', 'id': 'UgxYJTKwgh1-9VnWN_x4AaABAg', 'snippet': {'videoId': '9f6BxN2boCY', 'textDisplay': 'Các bạn ơi, nếu các bạn thấy video hữu ích thì đừng quên nhấn vào nút subcribe để luôn cập nhật những thông tin tình yêu mới nhất nhé, cũng đừng quên nhấn vào chia sẻ, để chia sẻ nó cho những người mà các bạn yêu thương, quan tâm, để họ cũng có hạnh phúc các bạn nhé. Để liên hệ với mình hãy nhấn theo dõi trên trang fanpafe: <a href=\"https://www.facebook.com/To%C3%A0n-Nguy%E1%BB%85n-375708659953723/?modal=admin_todo_tour\">https://www.facebook.com/To%C3%A0n-Nguy%E1%BB%85n-375708659953723/?modal=admin_todo_tour</a>', 'textOriginal': 'Các bạn ơi, nếu các bạn thấy video hữu ích thì đừng quên nhấn vào nút subcribe để luôn cập nhật những thông tin tình yêu mới nhất nhé, cũng đừng quên nhấn vào chia sẻ, để chia sẻ nó cho những người mà các bạn yêu thương, quan tâm, để họ cũng có hạnh phúc các bạn nhé. Để liên hệ với mình hãy nhấn theo dõi trên trang fanpafe: https://www.facebook.com/To%C3%A0n-Nguy%E1%BB%85n-375708659953723/?modal=admin_todo_tour', 'authorDisplayName': 'Toàn Nguyễn', 'authorProfileImageUrl': 'https://yt3.ggpht.com/AN9dvdwWDW_W5Qh_9rIqWS-fhjdHKTH1-VyOPepdniV1aDmnv-M2y98Ld7MvkmIT4bh606vLvCo=s48-c-k-c0x00ffffff-no-rj', 'authorChannelUrl': 'http://www.youtube.com/channel/UCQxFc2GZvTAfwgikTwPJSkA', 'authorChannelId': {'value': 'UCQxFc2GZvTAfwgikTwPJSkA'}, 'canRate': True, 'viewerRating': 'none', 'likeCount': 3, 'publishedAt': '2019-06-14T13:43:28Z', 'updatedAt': '2019-06-14T13:43:28Z'}}, 'canReply': True, 'totalReplyCount': 0, 'isPublic': True}}, {'kind': 'youtube#commentThread', 'etag': 'fMmxsSFX5GMCFhiwGYHKi4P594g', 'id': 'UgwISfxEaHdQ3GrGW9x4AaABAg', 'snippet': {'videoId': '9f6BxN2boCY', 'topLevelComment': {'kind': 'youtube#comment', 'etag': '-lBz2y1XIG20xnMcSVzGAYpC8Ic', 'id': 'UgwISfxEaHdQ3GrGW9x4AaABAg', 'snippet': {'videoId': '9f6BxN2boCY', 'textDisplay': 'Trong rất nhiều các chuyên gia nói về nd tâm lý, em là nguoi nói các vde thật là khoa học, đúng đắn, thực tế và tuyệt vời, cảm ơn em!', 'textOriginal': 'Trong rất nhiều các chuyên gia nói về nd tâm lý, em là nguoi nói các vde thật là khoa học, đúng đắn, thực tế và tuyệt vời, cảm ơn em!', 'authorDisplayName': 'nguyen huong', 'authorProfileImageUrl': 'https://yt3.ggpht.com/ytc/AL5GRJVz526Zufd-uI-6AVhX6kQnGKvgfCXruB_wCA=s48-c-k-c0x00ffffff-no-rj', 'authorChannelUrl': 'http://www.youtube.com/channel/UCpKP_W6FFDDXmO8NKVCktPw', 'authorChannelId': {'value': 'UCpKP_W6FFDDXmO8NKVCktPw'}, 'canRate': True, 'viewerRating': 'none', 'likeCount': 0, 'publishedAt': '2019-06-14T09:44:21Z', 'updatedAt': '2019-06-14T09:44:21Z'}}, 'canReply': True, 'totalReplyCount': 0, 'isPublic': True}}, {'kind': 'youtube#commentThread', 'etag': 'G_0Gkuk21j5avK3rXUIyvrB2bcc', 'id': 'UgyKlumt7Ic4y6doQVB4AaABAg', 'snippet': {'videoId': '9f6BxN2boCY', 'topLevelComment': {'kind': 'youtube#comment', 'etag': 'LipKOtc3YTocZEt34HxQR99iGAE', 'id': 'UgyKlumt7Ic4y6doQVB4AaABAg', 'snippet': {'videoId': '9f6BxN2boCY', 'textDisplay': 'Cảm ơn bạn rất bổ ích và ý nghĩa', 'textOriginal': 'Cảm ơn bạn rất bổ ích và ý nghĩa', 'authorDisplayName': 'Thu Nguyen', 'authorProfileImageUrl': 'https://yt3.ggpht.com/ytc/AL5GRJVHZ0ZX2N8_iMeUVXzOaYbabJ9sU7wvrpf27m4k=s48-c-k-c0x00ffffff-no-rj', 'authorChannelUrl': 'http://www.youtube.com/channel/UCrFuUGcDHjKGrg8WoOLl4LQ', 'authorChannelId': {'value': 'UCrFuUGcDHjKGrg8WoOLl4LQ'}, 'canRate': True, 'viewerRating': 'none', 'likeCount': 0, 'publishedAt': '2019-06-01T04:21:25Z', 'updatedAt': '2019-06-01T04:21:25Z'}}, 'canReply': True, 'totalReplyCount': 0, 'isPublic': True}}, {'kind': 'youtube#commentThread', 'etag': 'NKWH3tPl5Nx8TG65SYbXhboWSQk', 'id': 'UgzNTbRYFqK4JZlPkGh4AaABAg', 'snippet': {'videoId': '9f6BxN2boCY', 'topLevelComment': {'kind': 'youtube#comment', 'etag': '5jBovOKWtwLKc0tJt-HqHc-B738', 'id': 'UgzNTbRYFqK4JZlPkGh4AaABAg', 'snippet': {'videoId': '9f6BxN2boCY', 'textDisplay': 'Top 5 Điều Hấp Dẫn Ở Phụ Nữ<br>5) Hài hước, vui vẻ<br>Cảm nhận được sự hài hước, vui vẻ của anh ấy. =&gt; cười nắc nẻ <br>4) Tự tin<br>Choose red color, sexy. Trong cách ăn mặc, bước đi, nch... Always be confident. Giỏi thì học hỏi kinh nghiệm... Everyone likes confident girls. <br>3) Độc lập<br>- Có cuộc sống riêng, k ai muốn yêu một ng phụ thuộc mình. Một cô gái có hoài bão, ước muốn riêng, bận rộn để đạt được điều bạn muốn. <br>+ tình cảm, k có anh ấy vẫn sống tốt. <br>+ tài chính $$$<br>2) Thẳng thắn, thật<br>Đàn ông cũng iuu bằng tai đấyy 🤣🤣<br>1) Hạnh phúc<br>Luôn luôn vui vẻ có thể lan toả năng lượng tích cực ra xung quanh. Chả ai muốn cạnh ng hay than vãn tiêu cực, chán này nọ lọ chai -.- ghét v', 'textOriginal': 'Top 5 Điều Hấp Dẫn Ở Phụ Nữ\\n5) Hài hước, vui vẻ\\nCảm nhận được sự hài hước, vui vẻ của anh ấy. => cười nắc nẻ \\n4) Tự tin\\nChoose red color, sexy. Trong cách ăn mặc, bước đi, nch... Always be confident. Giỏi thì học hỏi kinh nghiệm... Everyone likes confident girls. \\n3) Độc lập\\n- Có cuộc sống riêng, k ai muốn yêu một ng phụ thuộc mình. Một cô gái có hoài bão, ước muốn riêng, bận rộn để đạt được điều bạn muốn. \\n+ tình cảm, k có anh ấy vẫn sống tốt. \\n+ tài chính $$$\\n2) Thẳng thắn, thật\\nĐàn ông cũng iuu bằng tai đấyy 🤣🤣\\n1) Hạnh phúc\\nLuôn luôn vui vẻ có thể lan toả năng lượng tích cực ra xung quanh. Chả ai muốn cạnh ng hay than vãn tiêu cực, chán này nọ lọ chai -.- ghét v', 'authorDisplayName': 'long đặng', 'authorProfileImageUrl': 'https://yt3.ggpht.com/ytc/AL5GRJVmJ6Jd-bEIlRoPqA1gU6QFKz4cM2FEWwLrpQ=s48-c-k-c0x00ffffff-no-rj', 'authorChannelUrl': 'http://www.youtube.com/channel/UCepNEdMvJI_J7TVDPAS6Blw', 'authorChannelId': {'value': 'UCepNEdMvJI_J7TVDPAS6Blw'}, 'canRate': True, 'viewerRating': 'none', 'likeCount': 39, 'publishedAt': '2019-05-31T03:49:22Z', 'updatedAt': '2019-05-31T03:49:22Z'}}, 'canReply': True, 'totalReplyCount': 2, 'isPublic': True}, 'replies': {'comments': [{'kind': 'youtube#comment', 'etag': '9AFNkEhZEEaUZzHIUOsON7DBbDw', 'id': 'UgzNTbRYFqK4JZlPkGh4AaABAg.8v_hJNyyw8u9DHGq5b_gyU', 'snippet': {'videoId': '9f6BxN2boCY', 'textDisplay': 'Cảm ơn many thanks', 'textOriginal': 'Cảm ơn many thanks', 'parentId': 'UgzNTbRYFqK4JZlPkGh4AaABAg', 'authorDisplayName': 'Việt Hoàng Hà', 'authorProfileImageUrl': 'https://yt3.ggpht.com/ytc/AL5GRJXcrc45hdLjLuWWi6XSRGXzan0sSxiFJP0O9iaNTg=s48-c-k-c0x00ffffff-no-rj', 'authorChannelUrl': 'http://www.youtube.com/channel/UCYBg5NjcvBafwuoRBxkRqOw', 'authorChannelId': {'value': 'UCYBg5NjcvBafwuoRBxkRqOw'}, 'canRate': True, 'viewerRating': 'none', 'likeCount': 0, 'publishedAt': '2020-09-06T20:40:13Z', 'updatedAt': '2020-09-06T20:40:13Z'}}, {'kind': 'youtube#comment', 'etag': 'c3Ad7X4_W6E7UQg386DAyV6IGtY', 'id': 'UgzNTbRYFqK4JZlPkGh4AaABAg.8v_hJNyyw8u98Lhh_xNs5x', 'snippet': {'videoId': '9f6BxN2boCY', 'textDisplay': 'long đặng cảm ơn bạn đã tóm tắt đầy đủ và xúc tích', 'textOriginal': 'long đặng cảm ơn bạn đã tóm tắt đầy đủ và xúc tích', 'parentId': 'UgzNTbRYFqK4JZlPkGh4AaABAg', 'authorDisplayName': 'Hang Tran', 'authorProfileImageUrl': 'https://yt3.ggpht.com/ytc/AL5GRJVEQXIIeepdav8wEedpvzcjh3TndcM-mTN2LBoKLGM=s48-c-k-c0x00ffffff-no-rj', 'authorChannelUrl': 'http://www.youtube.com/channel/UCBfGgfW0nQbGyCS7T9SoCsA', 'authorChannelId': {'value': 'UCBfGgfW0nQbGyCS7T9SoCsA'}, 'canRate': True, 'viewerRating': 'none', 'likeCount': 0, 'publishedAt': '2020-05-07T07:23:43Z', 'updatedAt': '2020-05-07T07:23:43Z'}}]}}, {'kind': 'youtube#commentThread', 'etag': 'QR_jPGKl95NVClvtYCeP6ly524I', 'id': 'UgyZ4zbZeLBGweaoxAd4AaABAg', 'snippet': {'videoId': '9f6BxN2boCY', 'topLevelComment': {'kind': 'youtube#comment', 'etag': 'mrIS6l15OJJ2K7LFedlD2x_r7Xc', 'id': 'UgyZ4zbZeLBGweaoxAd4AaABAg', 'snippet': {'videoId': '9f6BxN2boCY', 'textDisplay': 'Mình lại không làm được cái nào. Thật khó', 'textOriginal': 'Mình lại không làm được cái nào. Thật khó', 'authorDisplayName': 'lan mùng', 'authorProfileImageUrl': 'https://yt3.ggpht.com/ytc/AL5GRJWR4JxbQ8hK9VIrQJQbI__1I2pBzLdb-ipvL6-5XA=s48-c-k-c0x00ffffff-no-rj', 'authorChannelUrl': 'http://www.youtube.com/channel/UCZwLSEHr5g6Ef6Mp7l5BUow', 'authorChannelId': {'value': 'UCZwLSEHr5g6Ef6Mp7l5BUow'}, 'canRate': True, 'viewerRating': 'none', 'likeCount': 1, 'publishedAt': '2019-05-28T16:31:09Z', 'updatedAt': '2019-05-28T16:31:09Z'}}, 'canReply': True, 'totalReplyCount': 0, 'isPublic': True}}, {'kind': 'youtube#commentThread', 'etag': 'v-XoWZCo73dFvEYlidbMKAuUAno', 'id': 'UgwifebajYSzf3tdB394AaABAg', 'snippet': {'videoId': '9f6BxN2boCY', 'topLevelComment': {'kind': 'youtube#comment', 'etag': 'X56ZEDKjApWnuw2Gsx_i7s2Cw2g', 'id': 'UgwifebajYSzf3tdB394AaABAg', 'snippet': {'videoId': '9f6BxN2boCY', 'textDisplay': 'e nói rất hay và chính xác.chuc e luôn thành công .va có nhìu vỉdeo mới.để giúp mọi người đang bế tắc về t/y.', 'textOriginal': 'e nói rất hay và chính xác.chuc e luôn thành công .va có nhìu vỉdeo mới.để giúp mọi người đang bế tắc về t/y.', 'authorDisplayName': 'Theu Bach', 'authorProfileImageUrl': 'https://yt3.ggpht.com/ytc/AL5GRJUhhZojgJs7igax4KDNS3d5YUeZUi8cZqTUO0cy=s48-c-k-c0x00ffffff-no-rj', 'authorChannelUrl': 'http://www.youtube.com/channel/UCCLR8372ywRv2wU6WST_GEQ', 'authorChannelId': {'value': 'UCCLR8372ywRv2wU6WST_GEQ'}, 'canRate': True, 'viewerRating': 'none', 'likeCount': 1, 'publishedAt': '2019-05-27T05:15:22Z', 'updatedAt': '2019-05-27T05:15:22Z'}}, 'canReply': True, 'totalReplyCount': 0, 'isPublic': True}}, {'kind': 'youtube#commentThread', 'etag': 'wAldXQIUcAmvuu07uhnTh6LO-NY', 'id': 'Ugxw0jGl402lCVty0Ox4AaABAg', 'snippet': {'videoId': '9f6BxN2boCY', 'topLevelComment': {'kind': 'youtube#comment', 'etag': '4zWCG4R1vEl4jkw4PyAtkJPC5C8', 'id': 'Ugxw0jGl402lCVty0Ox4AaABAg', 'snippet': {'videoId': '9f6BxN2boCY', 'textDisplay': 'Hãy biết cách khen', 'textOriginal': 'Hãy biết cách khen', 'authorDisplayName': 'Minh Huyền', 'authorProfileImageUrl': 'https://yt3.ggpht.com/ytc/AL5GRJUVNezYyBzAocdEsmfgIlAin4knSIVTH6tF0zU5tQ=s48-c-k-c0x00ffffff-no-rj', 'authorChannelUrl': 'http://www.youtube.com/channel/UCvv9xBKATP5Id3msrdVpcXQ', 'authorChannelId': {'value': 'UCvv9xBKATP5Id3msrdVpcXQ'}, 'canRate': True, 'viewerRating': 'none', 'likeCount': 4, 'publishedAt': '2019-05-20T06:34:15Z', 'updatedAt': '2019-05-20T06:34:15Z'}}, 'canReply': True, 'totalReplyCount': 0, 'isPublic': True}}, {'kind': 'youtube#commentThread', 'etag': 'fw8MtZCoN8NN0qfw-bzEQHy1hvw', 'id': 'Ugym7VuYi0ATwKNCcbR4AaABAg', 'snippet': {'videoId': '9f6BxN2boCY', 'topLevelComment': {'kind': 'youtube#comment', 'etag': '7HHOulIAEj99Cuf8JgDcvbnHIac', 'id': 'Ugym7VuYi0ATwKNCcbR4AaABAg', 'snippet': {'videoId': '9f6BxN2boCY', 'textDisplay': 'Sự thật , thẳng thắn trung thực', 'textOriginal': 'Sự thật , thẳng thắn trung thực', 'authorDisplayName': 'Minh Huyền', 'authorProfileImageUrl': 'https://yt3.ggpht.com/ytc/AL5GRJUVNezYyBzAocdEsmfgIlAin4knSIVTH6tF0zU5tQ=s48-c-k-c0x00ffffff-no-rj', 'authorChannelUrl': 'http://www.youtube.com/channel/UCvv9xBKATP5Id3msrdVpcXQ', 'authorChannelId': {'value': 'UCvv9xBKATP5Id3msrdVpcXQ'}, 'canRate': True, 'viewerRating': 'none', 'likeCount': 2, 'publishedAt': '2019-05-20T06:33:13Z', 'updatedAt': '2019-05-20T06:33:13Z'}}, 'canReply': True, 'totalReplyCount': 0, 'isPublic': True}}, {'kind': 'youtube#commentThread', 'etag': 'sO0UetF6hV1PTb2itQ9v5huIoU4', 'id': 'UgyJzi0D2-AxcPhQge54AaABAg', 'snippet': {'videoId': '9f6BxN2boCY', 'topLevelComment': {'kind': 'youtube#comment', 'etag': 'Qcp3iRsYIQRk0yylU_wEvcMLFrc', 'id': 'UgyJzi0D2-AxcPhQge54AaABAg', 'snippet': {'videoId': '9f6BxN2boCY', 'textDisplay': 'Có cuộc sống hạnh phúc', 'textOriginal': 'Có cuộc sống hạnh phúc', 'authorDisplayName': 'Minh Huyền', 'authorProfileImageUrl': 'https://yt3.ggpht.com/ytc/AL5GRJUVNezYyBzAocdEsmfgIlAin4knSIVTH6tF0zU5tQ=s48-c-k-c0x00ffffff-no-rj', 'authorChannelUrl': 'http://www.youtube.com/channel/UCvv9xBKATP5Id3msrdVpcXQ', 'authorChannelId': {'value': 'UCvv9xBKATP5Id3msrdVpcXQ'}, 'canRate': True, 'viewerRating': 'none', 'likeCount': 3, 'publishedAt': '2019-05-20T06:32:16Z', 'updatedAt': '2019-05-20T06:32:16Z'}}, 'canReply': True, 'totalReplyCount': 0, 'isPublic': True}}, {'kind': 'youtube#commentThread', 'etag': 'vC45_maPbVeGQfH3W__IKKmtXho', 'id': 'Ugzx_fUYT-Dzr1gd8GN4AaABAg', 'snippet': {'videoId': '9f6BxN2boCY', 'topLevelComment': {'kind': 'youtube#comment', 'etag': '3qs3mfQB-X4p66x46RYf4CJI5Ss', 'id': 'Ugzx_fUYT-Dzr1gd8GN4AaABAg', 'snippet': {'videoId': '9f6BxN2boCY', 'textDisplay': '3 độc lập', 'textOriginal': '3 độc lập', 'authorDisplayName': 'Minh Huyền', 'authorProfileImageUrl': 'https://yt3.ggpht.com/ytc/AL5GRJUVNezYyBzAocdEsmfgIlAin4knSIVTH6tF0zU5tQ=s48-c-k-c0x00ffffff-no-rj', 'authorChannelUrl': 'http://www.youtube.com/channel/UCvv9xBKATP5Id3msrdVpcXQ', 'authorChannelId': {'value': 'UCvv9xBKATP5Id3msrdVpcXQ'}, 'canRate': True, 'viewerRating': 'none', 'likeCount': 3, 'publishedAt': '2019-05-20T06:31:49Z', 'updatedAt': '2019-05-20T06:31:49Z'}}, 'canReply': True, 'totalReplyCount': 0, 'isPublic': True}}, {'kind': 'youtube#commentThread', 'etag': '3YLHoIZadd134sCCJIPyO3DuDsU', 'id': 'UgwITG3BnusRYU5wn854AaABAg', 'snippet': {'videoId': '9f6BxN2boCY', 'topLevelComment': {'kind': 'youtube#comment', 'etag': '-FDoIVtudeBZKwq6_LvUIJrTkVI', 'id': 'UgwITG3BnusRYU5wn854AaABAg', 'snippet': {'videoId': '9f6BxN2boCY', 'textDisplay': '4 hãy tự tin', 'textOriginal': '4 hãy tự tin', 'authorDisplayName': 'Minh Huyền', 'authorProfileImageUrl': 'https://yt3.ggpht.com/ytc/AL5GRJUVNezYyBzAocdEsmfgIlAin4knSIVTH6tF0zU5tQ=s48-c-k-c0x00ffffff-no-rj', 'authorChannelUrl': 'http://www.youtube.com/channel/UCvv9xBKATP5Id3msrdVpcXQ', 'authorChannelId': {'value': 'UCvv9xBKATP5Id3msrdVpcXQ'}, 'canRate': True, 'viewerRating': 'none', 'likeCount': 3, 'publishedAt': '2019-05-20T06:31:07Z', 'updatedAt': '2019-05-20T06:31:07Z'}}, 'canReply': True, 'totalReplyCount': 0, 'isPublic': True}}, {'kind': 'youtube#commentThread', 'etag': 'wZ--s8G0HDJqyqH8IJrlkakVKlk', 'id': 'UgyPYFdu4r8Xne_Gz054AaABAg', 'snippet': {'videoId': '9f6BxN2boCY', 'topLevelComment': {'kind': 'youtube#comment', 'etag': '8CBLWiqTPybOa3z82Hb29a1KoKA', 'id': 'UgyPYFdu4r8Xne_Gz054AaABAg', 'snippet': {'videoId': '9f6BxN2boCY', 'textDisplay': 'Để trở thành một người phụ nữ quyến rũ cần<br>Sự hiểu , cảm nhận sự hài hước của người đàn ông', 'textOriginal': 'Để trở thành một người phụ nữ quyến rũ cần\\nSự hiểu , cảm nhận sự hài hước của người đàn ông', 'authorDisplayName': 'Minh Huyền', 'authorProfileImageUrl': 'https://yt3.ggpht.com/ytc/AL5GRJUVNezYyBzAocdEsmfgIlAin4knSIVTH6tF0zU5tQ=s48-c-k-c0x00ffffff-no-rj', 'authorChannelUrl': 'http://www.youtube.com/channel/UCvv9xBKATP5Id3msrdVpcXQ', 'authorChannelId': {'value': 'UCvv9xBKATP5Id3msrdVpcXQ'}, 'canRate': True, 'viewerRating': 'none', 'likeCount': 6, 'publishedAt': '2019-05-20T06:29:30Z', 'updatedAt': '2019-05-20T06:29:30Z'}}, 'canReply': True, 'totalReplyCount': 0, 'isPublic': True}}, {'kind': 'youtube#commentThread', 'etag': 'eZ1kBwERblSgQAUqZ9QcgTzfRxk', 'id': 'Ugz8CeUs8ZVvaBaeddB4AaABAg', 'snippet': {'videoId': '9f6BxN2boCY', 'topLevelComment': {'kind': 'youtube#comment', 'etag': 'LHnhw7EdYKBNscS3LcQHM4DME-o', 'id': 'Ugz8CeUs8ZVvaBaeddB4AaABAg', 'snippet': {'videoId': '9f6BxN2boCY', 'textDisplay': 'Mình thực sự cảm ơn tất cả những lời chia sẻ rất giá trị trong tất cả các video của bạn làm. ❤', 'textOriginal': 'Mình thực sự cảm ơn tất cả những lời chia sẻ rất giá trị trong tất cả các video của bạn làm. ❤', 'authorDisplayName': 'Ly Nguyen', 'authorProfileImageUrl': 'https://yt3.ggpht.com/ytc/AL5GRJUf_W4MA3C-0ZYBwMpA8gUXMesMOR1x1WCi_mkrwg=s48-c-k-c0x00ffffff-no-rj', 'authorChannelUrl': 'http://www.youtube.com/channel/UCKmykafQE_Nsmd5ezHsVNoA', 'authorChannelId': {'value': 'UCKmykafQE_Nsmd5ezHsVNoA'}, 'canRate': True, 'viewerRating': 'none', 'likeCount': 5, 'publishedAt': '2019-05-15T13:49:00Z', 'updatedAt': '2019-05-15T13:49:00Z'}}, 'canReply': True, 'totalReplyCount': 0, 'isPublic': True}}, {'kind': 'youtube#commentThread', 'etag': 'dWK40_bgq6xVvPfBXlurXpCf0EA', 'id': 'UgwZvqcjPpiuvq1l4ct4AaABAg', 'snippet': {'videoId': '9f6BxN2boCY', 'topLevelComment': {'kind': 'youtube#comment', 'etag': 'L-TBmJdZf90WoD-3jP6CTcF3r6M', 'id': 'UgwZvqcjPpiuvq1l4ct4AaABAg', 'snippet': {'videoId': '9f6BxN2boCY', 'textDisplay': 'Quá nhiều qc. Chưa đc 3 câu lại qc. Mất hứng.', 'textOriginal': 'Quá nhiều qc. Chưa đc 3 câu lại qc. Mất hứng.', 'authorDisplayName': 'Chiến Trần', 'authorProfileImageUrl': 'https://yt3.ggpht.com/ytc/AL5GRJWkL0Egb7gDHkkpGo-5XUpWBMGSeenrL0hh3A=s48-c-k-c0x00ffffff-no-rj', 'authorChannelUrl': 'http://www.youtube.com/channel/UCj0bSGyhFxv-I6_5QUJhAiA', 'authorChannelId': {'value': 'UCj0bSGyhFxv-I6_5QUJhAiA'}, 'canRate': True, 'viewerRating': 'none', 'likeCount': 0, 'publishedAt': '2019-05-14T03:18:21Z', 'updatedAt': '2019-05-14T03:18:21Z'}}, 'canReply': True, 'totalReplyCount': 0, 'isPublic': True}}, {'kind': 'youtube#commentThread', 'etag': 'nuog0LMIjZk3hFYZc1F9H4SM3U0', 'id': 'UgwaxkB3FiD5sK4bo9t4AaABAg', 'snippet': {'videoId': '9f6BxN2boCY', 'topLevelComment': {'kind': 'youtube#comment', 'etag': '90T4HCIrOKCzxv9xXSZKdBrcv-M', 'id': 'UgwaxkB3FiD5sK4bo9t4AaABAg', 'snippet': {'videoId': '9f6BxN2boCY', 'textDisplay': 'Hay wua chi oi', 'textOriginal': 'Hay wua chi oi', 'authorDisplayName': 'Hiet Hoang', 'authorProfileImageUrl': 'https://yt3.ggpht.com/ytc/AL5GRJWD4a7HzZlKftk4lt4KwkGPJlgWYaLWElXDGw=s48-c-k-c0x00ffffff-no-rj', 'authorChannelUrl': 'http://www.youtube.com/channel/UCCGOUxVq1rEOBpqD9K3_OvQ', 'authorChannelId': {'value': 'UCCGOUxVq1rEOBpqD9K3_OvQ'}, 'canRate': True, 'viewerRating': 'none', 'likeCount': 1, 'publishedAt': '2019-05-12T09:38:22Z', 'updatedAt': '2019-05-12T09:38:22Z'}}, 'canReply': True, 'totalReplyCount': 1, 'isPublic': True}, 'replies': {'comments': [{'kind': 'youtube#comment', 'etag': 'k0U8502H660BMFk8FC9rdiVGocc', 'id': 'UgwaxkB3FiD5sK4bo9t4AaABAg.8upP8wCKNhu8usWJtbgvXf', 'snippet': {'videoId': '9f6BxN2boCY', 'textDisplay': 'Cảm ơn em.', 'textOriginal': 'Cảm ơn em.', 'parentId': 'UgwaxkB3FiD5sK4bo9t4AaABAg', 'authorDisplayName': 'Toàn Nguyễn', 'authorProfileImageUrl': 'https://yt3.ggpht.com/AN9dvdwWDW_W5Qh_9rIqWS-fhjdHKTH1-VyOPepdniV1aDmnv-M2y98Ld7MvkmIT4bh606vLvCo=s48-c-k-c0x00ffffff-no-rj', 'authorChannelUrl': 'http://www.youtube.com/channel/UCQxFc2GZvTAfwgikTwPJSkA', 'authorChannelId': {'value': 'UCQxFc2GZvTAfwgikTwPJSkA'}, 'canRate': True, 'viewerRating': 'none', 'likeCount': 0, 'publishedAt': '2019-05-13T14:38:45Z', 'updatedAt': '2019-05-13T14:38:45Z'}}]}}, {'kind': 'youtube#commentThread', 'etag': 'a0sVZ38AUIhv6OXZz2xNpiSuzyo', 'id': 'Ugw698t5H0-Vr2KCoYh4AaABAg', 'snippet': {'videoId': '9f6BxN2boCY', 'topLevelComment': {'kind': 'youtube#comment', 'etag': '6ELVDahuPzl9xT-TOlGQBycLuTo', 'id': 'Ugw698t5H0-Vr2KCoYh4AaABAg', 'snippet': {'videoId': '9f6BxN2boCY', 'textDisplay': 'hay', 'textOriginal': 'hay', 'authorDisplayName': '장미꽃', 'authorProfileImageUrl': 'https://yt3.ggpht.com/ytc/AL5GRJX_SkTFCQ33aV3hZWbfr1NFpL4uuOrNb60mLw=s48-c-k-c0x00ffffff-no-rj', 'authorChannelUrl': 'http://www.youtube.com/channel/UCoiHKZVui_8qWNPGhu3DKGg', 'authorChannelId': {'value': 'UCoiHKZVui_8qWNPGhu3DKGg'}, 'canRate': True, 'viewerRating': 'none', 'likeCount': 1, 'publishedAt': '2019-05-11T14:42:33Z', 'updatedAt': '2019-05-11T14:42:33Z'}}, 'canReply': True, 'totalReplyCount': 0, 'isPublic': True}}]}\n"
     ]
    }
   ],
   "source": [
    "request = youtube.commentThreads().list(\n",
    "                part=\"snippet,replies\",\n",
    "                videoId='9f6BxN2boCY',\n",
    "                maxResults=30\n",
    "            )\n",
    "response = request.execute()\n",
    "print(response)\n",
    "# comments_in_video = [comment['snippet']['topLevelComment']['snippet']['textOriginal'] for comment in response['items'][0:30]]\n",
    "# replies = [comment['replies']['comments']['snippet']['textOriginal'] for comment in response['items'][0:30]]\n",
    "# comments_in_video_info = {'video_id': video_id, 'comments': comments_in_video}\n",
    "# all_comments.append(comments_in_video_info) "
   ]
  },
  {
   "cell_type": "code",
   "execution_count": 18,
   "metadata": {},
   "outputs": [],
   "source": [
    "#TEST OnLY\n",
    "def get_channel_stats(youtube, channel_ids):\n",
    "    all_data = []\n",
    "\n",
    "    request = youtube.channels().list(\n",
    "    part=\"snippet, statistics, contentDetails\",\n",
    "    id=','.join(channel_ids)\n",
    "    )\n",
    "    response = request.execute()\n",
    "    JSON(response['items'])\n",
    "    #loop through items\n",
    "#     for item in response['items']:\n",
    "#         data = {'channelName': item['snippet']['title'],\n",
    "#                 'subcribers': item['statistics']['subscriberCount'],\n",
    "#                 'views': item['statistics']['viewCount'],\n",
    "#                 'totalViews': item['statistics']['videoCount'],\n",
    "#                 'playlistId': item['contentDetails']['relatedPlaylists']['uploads']\n",
    "#                 }\n",
    "        \n",
    "#     all_data.append(data)\n",
    "\n",
    "#     return pd.DataFrame(all_data)\n",
    "get_channel_stats(youtube, channel_ids)"
   ]
  },
  {
   "cell_type": "code",
   "execution_count": null,
   "metadata": {},
   "outputs": [],
   "source": []
  }
 ],
 "metadata": {
  "kernelspec": {
   "display_name": "my_env",
   "language": "python",
   "name": "my_env"
  },
  "language_info": {
   "codemirror_mode": {
    "name": "ipython",
    "version": 3
   },
   "file_extension": ".py",
   "mimetype": "text/x-python",
   "name": "python",
   "nbconvert_exporter": "python",
   "pygments_lexer": "ipython3",
   "version": "3.11.2"
  }
 },
 "nbformat": 4,
 "nbformat_minor": 4
}
